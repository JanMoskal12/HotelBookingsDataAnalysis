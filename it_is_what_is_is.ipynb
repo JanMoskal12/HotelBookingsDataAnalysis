{
 "cells": [
  {
   "cell_type": "markdown",
   "metadata": {},
   "source": [
    "### Wczytanie danych i bibliotek"
   ]
  },
  {
   "cell_type": "code",
   "execution_count": 2,
   "metadata": {},
   "outputs": [],
   "source": [
    "import pandas as pd\n",
    "import numpy as np\n",
    "import matplotlib.pyplot as plt\n",
    "import seaborn as sns\n",
    "import pycaret\n",
    "\n",
    "from pycaret.classification import *\n",
    "from sklearn.ensemble import IsolationForest\n",
    "from sklearn.preprocessing import normalize"
   ]
  },
  {
   "cell_type": "code",
   "execution_count": 3,
   "metadata": {},
   "outputs": [],
   "source": [
    "dane = pd.read_csv('hotel_bookings.csv')\n",
    "dane.head()\n",
    "\n",
    "dane_eda = dane.copy()"
   ]
  },
  {
   "cell_type": "code",
   "execution_count": 4,
   "metadata": {},
   "outputs": [
    {
     "name": "stdout",
     "output_type": "stream",
     "text": [
      "<class 'pandas.core.frame.DataFrame'>\n",
      "RangeIndex: 119390 entries, 0 to 119389\n",
      "Data columns (total 32 columns):\n",
      " #   Column                          Non-Null Count   Dtype  \n",
      "---  ------                          --------------   -----  \n",
      " 0   hotel                           119390 non-null  object \n",
      " 1   is_canceled                     119390 non-null  int64  \n",
      " 2   lead_time                       119390 non-null  int64  \n",
      " 3   arrival_date_year               119390 non-null  int64  \n",
      " 4   arrival_date_month              119390 non-null  object \n",
      " 5   arrival_date_week_number        119390 non-null  int64  \n",
      " 6   arrival_date_day_of_month       119390 non-null  int64  \n",
      " 7   stays_in_weekend_nights         119390 non-null  int64  \n",
      " 8   stays_in_week_nights            119390 non-null  int64  \n",
      " 9   adults                          119390 non-null  int64  \n",
      " 10  children                        119386 non-null  float64\n",
      " 11  babies                          119390 non-null  int64  \n",
      " 12  meal                            119390 non-null  object \n",
      " 13  country                         118902 non-null  object \n",
      " 14  market_segment                  119390 non-null  object \n",
      " 15  distribution_channel            119390 non-null  object \n",
      " 16  is_repeated_guest               119390 non-null  int64  \n",
      " 17  previous_cancellations          119390 non-null  int64  \n",
      " 18  previous_bookings_not_canceled  119390 non-null  int64  \n",
      " 19  reserved_room_type              119390 non-null  object \n",
      " 20  assigned_room_type              119390 non-null  object \n",
      " 21  booking_changes                 119390 non-null  int64  \n",
      " 22  deposit_type                    119390 non-null  object \n",
      " 23  agent                           103050 non-null  float64\n",
      " 24  company                         6797 non-null    float64\n",
      " 25  days_in_waiting_list            119390 non-null  int64  \n",
      " 26  customer_type                   119390 non-null  object \n",
      " 27  adr                             119390 non-null  float64\n",
      " 28  required_car_parking_spaces     119390 non-null  int64  \n",
      " 29  total_of_special_requests       119390 non-null  int64  \n",
      " 30  reservation_status              119390 non-null  object \n",
      " 31  reservation_status_date         119390 non-null  object \n",
      "dtypes: float64(4), int64(16), object(12)\n",
      "memory usage: 29.1+ MB\n"
     ]
    }
   ],
   "source": [
    "dane.info()"
   ]
  },
  {
   "cell_type": "code",
   "execution_count": 5,
   "metadata": {},
   "outputs": [
    {
     "data": {
      "text/html": [
       "<div>\n",
       "<style scoped>\n",
       "    .dataframe tbody tr th:only-of-type {\n",
       "        vertical-align: middle;\n",
       "    }\n",
       "\n",
       "    .dataframe tbody tr th {\n",
       "        vertical-align: top;\n",
       "    }\n",
       "\n",
       "    .dataframe thead th {\n",
       "        text-align: right;\n",
       "    }\n",
       "</style>\n",
       "<table border=\"1\" class=\"dataframe\">\n",
       "  <thead>\n",
       "    <tr style=\"text-align: right;\">\n",
       "      <th></th>\n",
       "      <th>is_canceled</th>\n",
       "      <th>lead_time</th>\n",
       "      <th>arrival_date_year</th>\n",
       "      <th>arrival_date_week_number</th>\n",
       "      <th>arrival_date_day_of_month</th>\n",
       "      <th>stays_in_weekend_nights</th>\n",
       "      <th>stays_in_week_nights</th>\n",
       "      <th>adults</th>\n",
       "      <th>children</th>\n",
       "      <th>babies</th>\n",
       "      <th>is_repeated_guest</th>\n",
       "      <th>previous_cancellations</th>\n",
       "      <th>previous_bookings_not_canceled</th>\n",
       "      <th>booking_changes</th>\n",
       "      <th>agent</th>\n",
       "      <th>company</th>\n",
       "      <th>days_in_waiting_list</th>\n",
       "      <th>adr</th>\n",
       "      <th>required_car_parking_spaces</th>\n",
       "      <th>total_of_special_requests</th>\n",
       "    </tr>\n",
       "  </thead>\n",
       "  <tbody>\n",
       "    <tr>\n",
       "      <th>count</th>\n",
       "      <td>119390.000000</td>\n",
       "      <td>119390.000000</td>\n",
       "      <td>119390.000000</td>\n",
       "      <td>119390.000000</td>\n",
       "      <td>119390.000000</td>\n",
       "      <td>119390.000000</td>\n",
       "      <td>119390.000000</td>\n",
       "      <td>119390.000000</td>\n",
       "      <td>119386.000000</td>\n",
       "      <td>119390.000000</td>\n",
       "      <td>119390.000000</td>\n",
       "      <td>119390.000000</td>\n",
       "      <td>119390.000000</td>\n",
       "      <td>119390.000000</td>\n",
       "      <td>103050.000000</td>\n",
       "      <td>6797.000000</td>\n",
       "      <td>119390.000000</td>\n",
       "      <td>119390.000000</td>\n",
       "      <td>119390.000000</td>\n",
       "      <td>119390.000000</td>\n",
       "    </tr>\n",
       "    <tr>\n",
       "      <th>mean</th>\n",
       "      <td>0.370416</td>\n",
       "      <td>104.011416</td>\n",
       "      <td>2016.156554</td>\n",
       "      <td>27.165173</td>\n",
       "      <td>15.798241</td>\n",
       "      <td>0.927599</td>\n",
       "      <td>2.500302</td>\n",
       "      <td>1.856403</td>\n",
       "      <td>0.103890</td>\n",
       "      <td>0.007949</td>\n",
       "      <td>0.031912</td>\n",
       "      <td>0.087118</td>\n",
       "      <td>0.137097</td>\n",
       "      <td>0.221124</td>\n",
       "      <td>86.693382</td>\n",
       "      <td>189.266735</td>\n",
       "      <td>2.321149</td>\n",
       "      <td>101.831122</td>\n",
       "      <td>0.062518</td>\n",
       "      <td>0.571363</td>\n",
       "    </tr>\n",
       "    <tr>\n",
       "      <th>std</th>\n",
       "      <td>0.482918</td>\n",
       "      <td>106.863097</td>\n",
       "      <td>0.707476</td>\n",
       "      <td>13.605138</td>\n",
       "      <td>8.780829</td>\n",
       "      <td>0.998613</td>\n",
       "      <td>1.908286</td>\n",
       "      <td>0.579261</td>\n",
       "      <td>0.398561</td>\n",
       "      <td>0.097436</td>\n",
       "      <td>0.175767</td>\n",
       "      <td>0.844336</td>\n",
       "      <td>1.497437</td>\n",
       "      <td>0.652306</td>\n",
       "      <td>110.774548</td>\n",
       "      <td>131.655015</td>\n",
       "      <td>17.594721</td>\n",
       "      <td>50.535790</td>\n",
       "      <td>0.245291</td>\n",
       "      <td>0.792798</td>\n",
       "    </tr>\n",
       "    <tr>\n",
       "      <th>min</th>\n",
       "      <td>0.000000</td>\n",
       "      <td>0.000000</td>\n",
       "      <td>2015.000000</td>\n",
       "      <td>1.000000</td>\n",
       "      <td>1.000000</td>\n",
       "      <td>0.000000</td>\n",
       "      <td>0.000000</td>\n",
       "      <td>0.000000</td>\n",
       "      <td>0.000000</td>\n",
       "      <td>0.000000</td>\n",
       "      <td>0.000000</td>\n",
       "      <td>0.000000</td>\n",
       "      <td>0.000000</td>\n",
       "      <td>0.000000</td>\n",
       "      <td>1.000000</td>\n",
       "      <td>6.000000</td>\n",
       "      <td>0.000000</td>\n",
       "      <td>-6.380000</td>\n",
       "      <td>0.000000</td>\n",
       "      <td>0.000000</td>\n",
       "    </tr>\n",
       "    <tr>\n",
       "      <th>25%</th>\n",
       "      <td>0.000000</td>\n",
       "      <td>18.000000</td>\n",
       "      <td>2016.000000</td>\n",
       "      <td>16.000000</td>\n",
       "      <td>8.000000</td>\n",
       "      <td>0.000000</td>\n",
       "      <td>1.000000</td>\n",
       "      <td>2.000000</td>\n",
       "      <td>0.000000</td>\n",
       "      <td>0.000000</td>\n",
       "      <td>0.000000</td>\n",
       "      <td>0.000000</td>\n",
       "      <td>0.000000</td>\n",
       "      <td>0.000000</td>\n",
       "      <td>9.000000</td>\n",
       "      <td>62.000000</td>\n",
       "      <td>0.000000</td>\n",
       "      <td>69.290000</td>\n",
       "      <td>0.000000</td>\n",
       "      <td>0.000000</td>\n",
       "    </tr>\n",
       "    <tr>\n",
       "      <th>50%</th>\n",
       "      <td>0.000000</td>\n",
       "      <td>69.000000</td>\n",
       "      <td>2016.000000</td>\n",
       "      <td>28.000000</td>\n",
       "      <td>16.000000</td>\n",
       "      <td>1.000000</td>\n",
       "      <td>2.000000</td>\n",
       "      <td>2.000000</td>\n",
       "      <td>0.000000</td>\n",
       "      <td>0.000000</td>\n",
       "      <td>0.000000</td>\n",
       "      <td>0.000000</td>\n",
       "      <td>0.000000</td>\n",
       "      <td>0.000000</td>\n",
       "      <td>14.000000</td>\n",
       "      <td>179.000000</td>\n",
       "      <td>0.000000</td>\n",
       "      <td>94.575000</td>\n",
       "      <td>0.000000</td>\n",
       "      <td>0.000000</td>\n",
       "    </tr>\n",
       "    <tr>\n",
       "      <th>75%</th>\n",
       "      <td>1.000000</td>\n",
       "      <td>160.000000</td>\n",
       "      <td>2017.000000</td>\n",
       "      <td>38.000000</td>\n",
       "      <td>23.000000</td>\n",
       "      <td>2.000000</td>\n",
       "      <td>3.000000</td>\n",
       "      <td>2.000000</td>\n",
       "      <td>0.000000</td>\n",
       "      <td>0.000000</td>\n",
       "      <td>0.000000</td>\n",
       "      <td>0.000000</td>\n",
       "      <td>0.000000</td>\n",
       "      <td>0.000000</td>\n",
       "      <td>229.000000</td>\n",
       "      <td>270.000000</td>\n",
       "      <td>0.000000</td>\n",
       "      <td>126.000000</td>\n",
       "      <td>0.000000</td>\n",
       "      <td>1.000000</td>\n",
       "    </tr>\n",
       "    <tr>\n",
       "      <th>max</th>\n",
       "      <td>1.000000</td>\n",
       "      <td>737.000000</td>\n",
       "      <td>2017.000000</td>\n",
       "      <td>53.000000</td>\n",
       "      <td>31.000000</td>\n",
       "      <td>19.000000</td>\n",
       "      <td>50.000000</td>\n",
       "      <td>55.000000</td>\n",
       "      <td>10.000000</td>\n",
       "      <td>10.000000</td>\n",
       "      <td>1.000000</td>\n",
       "      <td>26.000000</td>\n",
       "      <td>72.000000</td>\n",
       "      <td>21.000000</td>\n",
       "      <td>535.000000</td>\n",
       "      <td>543.000000</td>\n",
       "      <td>391.000000</td>\n",
       "      <td>5400.000000</td>\n",
       "      <td>8.000000</td>\n",
       "      <td>5.000000</td>\n",
       "    </tr>\n",
       "  </tbody>\n",
       "</table>\n",
       "</div>"
      ],
      "text/plain": [
       "         is_canceled      lead_time  arrival_date_year  \\\n",
       "count  119390.000000  119390.000000      119390.000000   \n",
       "mean        0.370416     104.011416        2016.156554   \n",
       "std         0.482918     106.863097           0.707476   \n",
       "min         0.000000       0.000000        2015.000000   \n",
       "25%         0.000000      18.000000        2016.000000   \n",
       "50%         0.000000      69.000000        2016.000000   \n",
       "75%         1.000000     160.000000        2017.000000   \n",
       "max         1.000000     737.000000        2017.000000   \n",
       "\n",
       "       arrival_date_week_number  arrival_date_day_of_month  \\\n",
       "count             119390.000000              119390.000000   \n",
       "mean                  27.165173                  15.798241   \n",
       "std                   13.605138                   8.780829   \n",
       "min                    1.000000                   1.000000   \n",
       "25%                   16.000000                   8.000000   \n",
       "50%                   28.000000                  16.000000   \n",
       "75%                   38.000000                  23.000000   \n",
       "max                   53.000000                  31.000000   \n",
       "\n",
       "       stays_in_weekend_nights  stays_in_week_nights         adults  \\\n",
       "count            119390.000000         119390.000000  119390.000000   \n",
       "mean                  0.927599              2.500302       1.856403   \n",
       "std                   0.998613              1.908286       0.579261   \n",
       "min                   0.000000              0.000000       0.000000   \n",
       "25%                   0.000000              1.000000       2.000000   \n",
       "50%                   1.000000              2.000000       2.000000   \n",
       "75%                   2.000000              3.000000       2.000000   \n",
       "max                  19.000000             50.000000      55.000000   \n",
       "\n",
       "            children         babies  is_repeated_guest  \\\n",
       "count  119386.000000  119390.000000      119390.000000   \n",
       "mean        0.103890       0.007949           0.031912   \n",
       "std         0.398561       0.097436           0.175767   \n",
       "min         0.000000       0.000000           0.000000   \n",
       "25%         0.000000       0.000000           0.000000   \n",
       "50%         0.000000       0.000000           0.000000   \n",
       "75%         0.000000       0.000000           0.000000   \n",
       "max        10.000000      10.000000           1.000000   \n",
       "\n",
       "       previous_cancellations  previous_bookings_not_canceled  \\\n",
       "count           119390.000000                   119390.000000   \n",
       "mean                 0.087118                        0.137097   \n",
       "std                  0.844336                        1.497437   \n",
       "min                  0.000000                        0.000000   \n",
       "25%                  0.000000                        0.000000   \n",
       "50%                  0.000000                        0.000000   \n",
       "75%                  0.000000                        0.000000   \n",
       "max                 26.000000                       72.000000   \n",
       "\n",
       "       booking_changes          agent      company  days_in_waiting_list  \\\n",
       "count    119390.000000  103050.000000  6797.000000         119390.000000   \n",
       "mean          0.221124      86.693382   189.266735              2.321149   \n",
       "std           0.652306     110.774548   131.655015             17.594721   \n",
       "min           0.000000       1.000000     6.000000              0.000000   \n",
       "25%           0.000000       9.000000    62.000000              0.000000   \n",
       "50%           0.000000      14.000000   179.000000              0.000000   \n",
       "75%           0.000000     229.000000   270.000000              0.000000   \n",
       "max          21.000000     535.000000   543.000000            391.000000   \n",
       "\n",
       "                 adr  required_car_parking_spaces  total_of_special_requests  \n",
       "count  119390.000000                119390.000000              119390.000000  \n",
       "mean      101.831122                     0.062518                   0.571363  \n",
       "std        50.535790                     0.245291                   0.792798  \n",
       "min        -6.380000                     0.000000                   0.000000  \n",
       "25%        69.290000                     0.000000                   0.000000  \n",
       "50%        94.575000                     0.000000                   0.000000  \n",
       "75%       126.000000                     0.000000                   1.000000  \n",
       "max      5400.000000                     8.000000                   5.000000  "
      ]
     },
     "execution_count": 5,
     "metadata": {},
     "output_type": "execute_result"
    }
   ],
   "source": [
    "dane.describe()"
   ]
  },
  {
   "cell_type": "markdown",
   "metadata": {},
   "source": [
    "### EDA"
   ]
  },
  {
   "cell_type": "markdown",
   "metadata": {},
   "source": [
    "#### Statystyki opisowe"
   ]
  },
  {
   "cell_type": "code",
   "execution_count": 6,
   "metadata": {},
   "outputs": [],
   "source": [
    "def opis(kolumna):\n",
    "    print(f\"Średnia dla {kolumna}: \", np.round(np.mean(dane[kolumna]), decimals=2))\n",
    "    print(f\"Odchylenie standardowe dla {kolumna}: \", np.round(np.std(dane[kolumna]), decimals=2))\n",
    "    print(f\"Wariancja dla {kolumna}: \", np.round(np.var(dane[kolumna]), decimals=2))\n",
    "    print(f\"Kwantyle dla {kolumna}: \", np.quantile(dane[kolumna], q=np.array([0.25, 0.5, 0.75])))\n",
    "    print(f\"Minimum dla {kolumna}: \", np.round(np.min(dane[kolumna]), decimals=2))\n",
    "    print(f\"Mediana dla {kolumna}: \", np.round(np.median(dane[kolumna]), decimals=2))\n",
    "    print(f\"Maksimum dla {kolumna}: \", np.round(np.max(dane[kolumna]), decimals=2))\n",
    "    print(f\"Najczęściej występująca wartość dla {kolumna}:  {dane[kolumna].mode()[0]}\")"
   ]
  },
  {
   "cell_type": "markdown",
   "metadata": {},
   "source": [
    "##### lead_time"
   ]
  },
  {
   "cell_type": "markdown",
   "metadata": {},
   "source": [
    "Na początek zajmiejmy się zmienną lead_time mówiącą nam o tym na ile dni przed planowanym przyjazdem dokonowana była rezerwacja"
   ]
  },
  {
   "cell_type": "markdown",
   "metadata": {},
   "source": [
    "##### Liczność oraz podstawowe statystyki"
   ]
  },
  {
   "cell_type": "code",
   "execution_count": 7,
   "metadata": {},
   "outputs": [
    {
     "name": "stdout",
     "output_type": "stream",
     "text": [
      "3 najczęściej występujące wartości dla lead_time\n",
      "0    6345\n",
      "1    3460\n",
      "2    2069\n",
      "Name: count, dtype: int64\n",
      "\n",
      "Średnia dla lead_time:  104.01\n",
      "Odchylenie standardowe dla lead_time:  106.86\n",
      "Wariancja dla lead_time:  11419.63\n",
      "Kwantyle dla lead_time:  [ 18.  69. 160.]\n",
      "Minimum dla lead_time:  0\n",
      "Mediana dla lead_time:  69.0\n",
      "Maksimum dla lead_time:  737\n",
      "Najczęściej występująca wartość dla lead_time:  0\n"
     ]
    }
   ],
   "source": [
    "print(\"3 najczęściej występujące wartości dla\",dane_eda['lead_time'].value_counts().head(3))\n",
    "print()\n",
    "opis('lead_time')"
   ]
  },
  {
   "cell_type": "markdown",
   "metadata": {},
   "source": [
    "Zmienna jest typu int64, ma wartości w zakresie od 0 do 737. Duża przedział sprawia, że najłatwiej będzie powiedzieć coś patrząc na wizualizację."
   ]
  },
  {
   "cell_type": "markdown",
   "metadata": {},
   "source": [
    "##### Wizualiacje"
   ]
  },
  {
   "cell_type": "code",
   "execution_count": 8,
   "metadata": {},
   "outputs": [
    {
     "data": {
      "image/png": "[encoded data removed]",
      "text/plain": [
       "<Figure size 800x550 with 1 Axes>"
      ]
     },
     "metadata": {},
     "output_type": "display_data"
    }
   ],
   "source": [
    "sns.histplot(dane_eda['lead_time'], kde=True, color='skyblue')\n",
    "plt.title(\"Rozkład lead_time\")\n",
    "plt.xlabel(\"Lead Time\")\n",
    "plt.ylabel(\"Liczba rezerwacji\")\n",
    "plt.show()"
   ]
  },
  {
   "cell_type": "markdown",
   "metadata": {},
   "source": [
    "Wykres powyżej przedstawia rozkład zmiennej lead_time, która wskazuje czas (w dniach) pomiędzy dokonaniem rezerwacji a datą przyjazdu gościa.\n",
    "Wartości na osi x reprezentują długości oczekiwania na przyjazd, a wysokość słupków pokazuje, jak często dany czas oczekiwania występuje w zbiorze danych. Możemy zauważyć, że znacząca liczba gości rezerwuje pokój do 10 dni (pierwszy słupek) przed planowaną datą przyjazdu oraz, że wraz ze wzrostem czasu od rezerwacji do przyjazdu maleje liczba osób dokonująca tych rezerwacji. W dalszej części analizy ze względu na cel predykcyjne będzie można przyjrzeć się sytuacji gdy ktoś wprowadza się od razu w dniu rezerwacji szczególnie gdy rezerwacji dokonuje bezpośrednio w hotelu, ponieważ może to nie nieść znaczącej dla nas informacji."
   ]
  },
  {
   "cell_type": "code",
   "execution_count": 9,
   "metadata": {},
   "outputs": [
    {
     "data": {
      "image/png": "[encoded data removed]",
      "text/plain": [
       "<Figure size 800x550 with 1 Axes>"
      ]
     },
     "metadata": {},
     "output_type": "display_data"
    }
   ],
   "source": [
    "sns.boxplot(y=dane_eda['lead_time'], color='lightgreen', )\n",
    "plt.axhline(y=366, color='red', linestyle='--')\n",
    "plt.title(\"Wykres pudełkowy dla lead_time\")\n",
    "plt.xlabel(\"Lead Time\")\n",
    "plt.show()"
   ]
  },
  {
   "cell_type": "markdown",
   "metadata": {},
   "source": [
    "Wykres powyżej ponownie przedstawia rozkład zmiennej lead_time. Czerwoną przerywaną linią zaznaczony jest czas poprzedzający przyjazd równy 366 dni ( ze względu na to, że rok 2016 był przestępny). Zauważmy, że linia ta niemal, że pokrywa końcówkę wąsa odpowiadającą wartości maksymalnej, która nie jest odstająca. Może to oznaczać, że nietypowym zachowaniem jest rezerwacja hotelu na dłużej niż rok przed przyjazdem. Możemy również zauważyć, że połowa rezerwacji odbywa się na około 2 miesiące przed przyjazdem."
   ]
  },
  {
   "cell_type": "markdown",
   "metadata": {},
   "source": [
    "#### is_canceled"
   ]
  },
  {
   "cell_type": "markdown",
   "metadata": {},
   "source": [
    "Teraz przyjrzymy się zmiennej, którą będziemy predyktować. Zaczniemy od sprawdzenia typu zmiennej, liczność klas oraz sprawdzeniu czy występują braki danych."
   ]
  },
  {
   "cell_type": "code",
   "execution_count": 10,
   "metadata": {},
   "outputs": [
    {
     "data": {
      "text/plain": [
       "dtype('int64')"
      ]
     },
     "execution_count": 10,
     "metadata": {},
     "output_type": "execute_result"
    }
   ],
   "source": [
    "dane_eda['is_canceled'].dtypes"
   ]
  },
  {
   "cell_type": "code",
   "execution_count": 11,
   "metadata": {},
   "outputs": [
    {
     "name": "stdout",
     "output_type": "stream",
     "text": [
      "is_canceled\n",
      "0    75166\n",
      "1    44224\n",
      "Name: count, dtype: int64\n"
     ]
    }
   ],
   "source": [
    "print(dane_eda['is_canceled'].value_counts())"
   ]
  },
  {
   "cell_type": "markdown",
   "metadata": {},
   "source": [
    "Zmienna jest typu int64 oraz jest w miarę zrównoważona."
   ]
  },
  {
   "cell_type": "markdown",
   "metadata": {},
   "source": [
    "##### Wizualizacje"
   ]
  },
  {
   "cell_type": "code",
   "execution_count": 12,
   "metadata": {},
   "outputs": [
    {
     "data": {
      "image/png": "[encoded data removed]",
      "text/plain": [
       "<Figure size 800x550 with 1 Axes>"
      ]
     },
     "metadata": {},
     "output_type": "display_data"
    }
   ],
   "source": [
    "sns.countplot(x='is_canceled', data=dane_eda, hue='is_canceled')\n",
    "plt.title('Liczba rezerwacji anulowanych i nieanulowanych')\n",
    "plt.xlabel('is_canceled')\n",
    "plt.ylabel('Liczba przypadków')\n",
    "plt.show()"
   ]
  },
  {
   "cell_type": "code",
   "execution_count": 13,
   "metadata": {},
   "outputs": [
    {
     "data": {
      "image/png": "[encoded data removed]",
      "text/plain": [
       "<Figure size 2400x600 with 2 Axes>"
      ]
     },
     "metadata": {},
     "output_type": "display_data"
    }
   ],
   "source": [
    "bins = [-1, 0] + list(range(1, 366, 30))\n",
    "labels = ['0'] + [f'{i}-{i+29}' for i in range(1, 336, 30)] + ['361+']\n",
    "\n",
    "g = sns.FacetGrid(dane_eda, col='hotel', height=6, aspect=2, col_wrap=2)\n",
    "g.map_dataframe(\n",
    "    sns.histplot,\n",
    "    x=pd.cut(dane['lead_time'], bins=bins, labels=labels, include_lowest=True),\n",
    "    hue='is_canceled',\n",
    "    multiple='fill',\n",
    "    stat='probability',\n",
    "    shrink=0.95,\n",
    ")\n",
    "\n",
    "g.set_titles(col_template=\"{col_name}\")\n",
    "g.set_xticklabels(rotation=45)\n",
    "g.set_axis_labels(\"Lead Time (przedziały dni)\", \"Proporcja rezerwacji nieodwołanych i odwołanych\")\n",
    "plt.tight_layout()\n",
    "plt.show()"
   ]
  },
  {
   "cell_type": "markdown",
   "metadata": {},
   "source": [
    "Powyższe wykresy przedstawiają jak w zależności od hotelu wyglądają proporcję anulowania (anulowanie kolorem jasnozielonym, nieanulowanie kolorem niebieskim) w okresach 30 dniowych. Wydzielone zostało również 0, ze względu na to, że często mogłobyć to bezpośrednie wprowadzenie do hotelu. W przypadku obu hoteli jeśli rezerwacja odbyła się na od 1 do 30 dni to w przypadku hotelu w mieście tylko 15% rezerwacji została anulowana a jeśli ktoś wprowadzał się w dniu rezerwacji to anulowane było raptem 10% rezerwacji. W przypadku hotelu wypoczynkowego sytuacja jest nawet lepsza bo dla okresu od dnia 0 do 30 anulowanych jest tylko około 5% rezerwacji. Jeśli rezerwacja odbyła się na więcej dni przed przyjazdem to w obu przypadkach proporcja anulowanchy rezerwacji się zwiększa. W przypadku hotelu wypoczynkowego oscyluje wokół 40% zaś w przypadku hotelu w mieście rośnie bez przerwy osiągając około 80% dla dni 361+. Może być to jednak spowodowane małą ilością danych dla, których lead_time był aż tak wysoki."
   ]
  },
  {
   "cell_type": "code",
   "execution_count": 14,
   "metadata": {},
   "outputs": [],
   "source": [
    "corr = dane.select_dtypes(include=[np.number]).corr()\n",
    "df = corr"
   ]
  },
  {
   "cell_type": "code",
   "execution_count": 15,
   "metadata": {},
   "outputs": [
    {
     "name": "stdout",
     "output_type": "stream",
     "text": [
      "DataFrame z przekątną równą 0:\n",
      "                                is_canceled  lead_time  arrival_date_year  \\\n",
      "is_canceled                        0.000000   0.293123           0.016660   \n",
      "lead_time                          0.293123   0.000000           0.040142   \n",
      "arrival_date_year                  0.016660   0.040142           0.000000   \n",
      "arrival_date_week_number           0.008148   0.126871          -0.540561   \n",
      "arrival_date_day_of_month         -0.006130   0.002268          -0.000221   \n",
      "stays_in_weekend_nights           -0.001791   0.085671           0.021497   \n",
      "stays_in_week_nights               0.024765   0.165799           0.030883   \n",
      "adults                             0.060017   0.119519           0.029635   \n",
      "children                           0.005048  -0.037622           0.054624   \n",
      "babies                            -0.032491  -0.020915          -0.013192   \n",
      "is_repeated_guest                 -0.084793  -0.124410           0.010341   \n",
      "previous_cancellations             0.110133   0.086042          -0.119822   \n",
      "previous_bookings_not_canceled    -0.057358  -0.073548           0.029218   \n",
      "booking_changes                   -0.144381   0.000149           0.030872   \n",
      "agent                             -0.083114  -0.069741           0.063457   \n",
      "company                           -0.020642   0.151464           0.259095   \n",
      "days_in_waiting_list               0.054186   0.170084          -0.056497   \n",
      "adr                                0.047557  -0.063077           0.197580   \n",
      "required_car_parking_spaces       -0.195498  -0.116451          -0.013684   \n",
      "total_of_special_requests         -0.234658  -0.095712           0.108531   \n",
      "\n",
      "                                arrival_date_week_number  \\\n",
      "is_canceled                                     0.008148   \n",
      "lead_time                                       0.126871   \n",
      "arrival_date_year                              -0.540561   \n",
      "arrival_date_week_number                        0.000000   \n",
      "arrival_date_day_of_month                       0.066809   \n",
      "stays_in_weekend_nights                         0.018208   \n",
      "stays_in_week_nights                            0.015558   \n",
      "adults                                          0.025909   \n",
      "children                                        0.005518   \n",
      "babies                                          0.010395   \n",
      "is_repeated_guest                              -0.030131   \n",
      "previous_cancellations                          0.035501   \n",
      "previous_bookings_not_canceled                 -0.020904   \n",
      "booking_changes                                 0.005508   \n",
      "agent                                          -0.031201   \n",
      "company                                        -0.076760   \n",
      "days_in_waiting_list                            0.022933   \n",
      "adr                                             0.075791   \n",
      "required_car_parking_spaces                     0.001920   \n",
      "total_of_special_requests                       0.026149   \n",
      "\n",
      "                                arrival_date_day_of_month  \\\n",
      "is_canceled                                     -0.006130   \n",
      "lead_time                                        0.002268   \n",
      "arrival_date_year                               -0.000221   \n",
      "arrival_date_week_number                         0.066809   \n",
      "arrival_date_day_of_month                        0.000000   \n",
      "stays_in_weekend_nights                         -0.016354   \n",
      "stays_in_week_nights                            -0.028174   \n",
      "adults                                          -0.001566   \n",
      "children                                         0.014544   \n",
      "babies                                          -0.000230   \n",
      "is_repeated_guest                               -0.006145   \n",
      "previous_cancellations                          -0.027011   \n",
      "previous_bookings_not_canceled                  -0.000300   \n",
      "booking_changes                                  0.010613   \n",
      "agent                                            0.001487   \n",
      "company                                          0.044858   \n",
      "days_in_waiting_list                             0.022728   \n",
      "adr                                              0.030245   \n",
      "required_car_parking_spaces                      0.008683   \n",
      "total_of_special_requests                        0.003062   \n",
      "\n",
      "                                stays_in_weekend_nights  stays_in_week_nights  \\\n",
      "is_canceled                                   -0.001791              0.024765   \n",
      "lead_time                                      0.085671              0.165799   \n",
      "arrival_date_year                              0.021497              0.030883   \n",
      "arrival_date_week_number                       0.018208              0.015558   \n",
      "arrival_date_day_of_month                     -0.016354             -0.028174   \n",
      "stays_in_weekend_nights                        0.000000              0.498969   \n",
      "stays_in_week_nights                           0.498969              0.000000   \n",
      "adults                                         0.091871              0.092976   \n",
      "children                                       0.045793              0.044203   \n",
      "babies                                         0.018483              0.020191   \n",
      "is_repeated_guest                             -0.087239             -0.097245   \n",
      "previous_cancellations                        -0.012775             -0.013992   \n",
      "previous_bookings_not_canceled                -0.042715             -0.048743   \n",
      "booking_changes                                0.063281              0.096209   \n",
      "agent                                          0.140739              0.182382   \n",
      "company                                        0.066749              0.182211   \n",
      "days_in_waiting_list                          -0.054151             -0.002020   \n",
      "adr                                            0.049342              0.065237   \n",
      "required_car_parking_spaces                   -0.018554             -0.024859   \n",
      "total_of_special_requests                      0.072671              0.068192   \n",
      "\n",
      "                                  adults  children    babies  \\\n",
      "is_canceled                     0.060017  0.005048 -0.032491   \n",
      "lead_time                       0.119519 -0.037622 -0.020915   \n",
      "arrival_date_year               0.029635  0.054624 -0.013192   \n",
      "arrival_date_week_number        0.025909  0.005518  0.010395   \n",
      "arrival_date_day_of_month      -0.001566  0.014544 -0.000230   \n",
      "stays_in_weekend_nights         0.091871  0.045793  0.018483   \n",
      "stays_in_week_nights            0.092976  0.044203  0.020191   \n",
      "adults                          0.000000  0.030447  0.018146   \n",
      "children                        0.030447  0.000000  0.024030   \n",
      "babies                          0.018146  0.024030  0.000000   \n",
      "is_repeated_guest              -0.146426 -0.032859 -0.008943   \n",
      "previous_cancellations         -0.006738 -0.024730 -0.007501   \n",
      "previous_bookings_not_canceled -0.107983 -0.021072 -0.006550   \n",
      "booking_changes                -0.051673  0.048949  0.083440   \n",
      "agent                          -0.035594  0.041066  0.036184   \n",
      "company                         0.207793  0.030931  0.019206   \n",
      "days_in_waiting_list           -0.008283 -0.033273 -0.010621   \n",
      "adr                             0.230641  0.324854  0.029186   \n",
      "required_car_parking_spaces     0.014785  0.056253  0.037383   \n",
      "total_of_special_requests       0.122884  0.081745  0.097889   \n",
      "\n",
      "                                is_repeated_guest  previous_cancellations  \\\n",
      "is_canceled                             -0.084793                0.110133   \n",
      "lead_time                               -0.124410                0.086042   \n",
      "arrival_date_year                        0.010341               -0.119822   \n",
      "arrival_date_week_number                -0.030131                0.035501   \n",
      "arrival_date_day_of_month               -0.006145               -0.027011   \n",
      "stays_in_weekend_nights                 -0.087239               -0.012775   \n",
      "stays_in_week_nights                    -0.097245               -0.013992   \n",
      "adults                                  -0.146426               -0.006738   \n",
      "children                                -0.032859               -0.024730   \n",
      "babies                                  -0.008943               -0.007501   \n",
      "is_repeated_guest                        0.000000                0.082293   \n",
      "previous_cancellations                   0.082293                0.000000   \n",
      "previous_bookings_not_canceled           0.418056                0.152728   \n",
      "booking_changes                          0.012092               -0.026993   \n",
      "agent                                    0.031527               -0.012488   \n",
      "company                                 -0.244586               -0.184574   \n",
      "days_in_waiting_list                    -0.022235                0.005929   \n",
      "adr                                     -0.134314               -0.065646   \n",
      "required_car_parking_spaces              0.077090               -0.018492   \n",
      "total_of_special_requests                0.013050               -0.048384   \n",
      "\n",
      "                                previous_bookings_not_canceled  \\\n",
      "is_canceled                                          -0.057358   \n",
      "lead_time                                            -0.073548   \n",
      "arrival_date_year                                     0.029218   \n",
      "arrival_date_week_number                             -0.020904   \n",
      "arrival_date_day_of_month                            -0.000300   \n",
      "stays_in_weekend_nights                              -0.042715   \n",
      "stays_in_week_nights                                 -0.048743   \n",
      "adults                                               -0.107983   \n",
      "children                                             -0.021072   \n",
      "babies                                               -0.006550   \n",
      "is_repeated_guest                                     0.418056   \n",
      "previous_cancellations                                0.152728   \n",
      "previous_bookings_not_canceled                        0.000000   \n",
      "booking_changes                                       0.011608   \n",
      "agent                                                 0.023252   \n",
      "company                                              -0.208557   \n",
      "days_in_waiting_list                                 -0.009397   \n",
      "adr                                                  -0.072144   \n",
      "required_car_parking_spaces                           0.047653   \n",
      "total_of_special_requests                             0.037824   \n",
      "\n",
      "                                booking_changes     agent   company  \\\n",
      "is_canceled                           -0.144381 -0.083114 -0.020642   \n",
      "lead_time                              0.000149 -0.069741  0.151464   \n",
      "arrival_date_year                      0.030872  0.063457  0.259095   \n",
      "arrival_date_week_number               0.005508 -0.031201 -0.076760   \n",
      "arrival_date_day_of_month              0.010613  0.001487  0.044858   \n",
      "stays_in_weekend_nights                0.063281  0.140739  0.066749   \n",
      "stays_in_week_nights                   0.096209  0.182382  0.182211   \n",
      "adults                                -0.051673 -0.035594  0.207793   \n",
      "children                               0.048949  0.041066  0.030931   \n",
      "babies                                 0.083440  0.036184  0.019206   \n",
      "is_repeated_guest                      0.012092  0.031527 -0.244586   \n",
      "previous_cancellations                -0.026993 -0.012488 -0.184574   \n",
      "previous_bookings_not_canceled         0.011608  0.023252 -0.208557   \n",
      "booking_changes                        0.000000  0.067010  0.122098   \n",
      "agent                                  0.067010  0.000000  0.350746   \n",
      "company                                0.122098  0.350746  0.000000   \n",
      "days_in_waiting_list                  -0.011634 -0.055151  0.000411   \n",
      "adr                                    0.019618 -0.024695  0.086376   \n",
      "required_car_parking_spaces            0.065620  0.177353 -0.012916   \n",
      "total_of_special_requests              0.052833  0.034162 -0.098558   \n",
      "\n",
      "                                days_in_waiting_list       adr  \\\n",
      "is_canceled                                 0.054186  0.047557   \n",
      "lead_time                                   0.170084 -0.063077   \n",
      "arrival_date_year                          -0.056497  0.197580   \n",
      "arrival_date_week_number                    0.022933  0.075791   \n",
      "arrival_date_day_of_month                   0.022728  0.030245   \n",
      "stays_in_weekend_nights                    -0.054151  0.049342   \n",
      "stays_in_week_nights                       -0.002020  0.065237   \n",
      "adults                                     -0.008283  0.230641   \n",
      "children                                   -0.033273  0.324854   \n",
      "babies                                     -0.010621  0.029186   \n",
      "is_repeated_guest                          -0.022235 -0.134314   \n",
      "previous_cancellations                      0.005929 -0.065646   \n",
      "previous_bookings_not_canceled             -0.009397 -0.072144   \n",
      "booking_changes                            -0.011634  0.019618   \n",
      "agent                                      -0.055151 -0.024695   \n",
      "company                                     0.000411  0.086376   \n",
      "days_in_waiting_list                        0.000000 -0.040756   \n",
      "adr                                        -0.040756  0.000000   \n",
      "required_car_parking_spaces                -0.030600  0.056628   \n",
      "total_of_special_requests                  -0.082730  0.172185   \n",
      "\n",
      "                                required_car_parking_spaces  \\\n",
      "is_canceled                                       -0.195498   \n",
      "lead_time                                         -0.116451   \n",
      "arrival_date_year                                 -0.013684   \n",
      "arrival_date_week_number                           0.001920   \n",
      "arrival_date_day_of_month                          0.008683   \n",
      "stays_in_weekend_nights                           -0.018554   \n",
      "stays_in_week_nights                              -0.024859   \n",
      "adults                                             0.014785   \n",
      "children                                           0.056253   \n",
      "babies                                             0.037383   \n",
      "is_repeated_guest                                  0.077090   \n",
      "previous_cancellations                            -0.018492   \n",
      "previous_bookings_not_canceled                     0.047653   \n",
      "booking_changes                                    0.065620   \n",
      "agent                                              0.177353   \n",
      "company                                           -0.012916   \n",
      "days_in_waiting_list                              -0.030600   \n",
      "adr                                                0.056628   \n",
      "required_car_parking_spaces                        0.000000   \n",
      "total_of_special_requests                          0.082626   \n",
      "\n",
      "                                total_of_special_requests  \n",
      "is_canceled                                     -0.234658  \n",
      "lead_time                                       -0.095712  \n",
      "arrival_date_year                                0.108531  \n",
      "arrival_date_week_number                         0.026149  \n",
      "arrival_date_day_of_month                        0.003062  \n",
      "stays_in_weekend_nights                          0.072671  \n",
      "stays_in_week_nights                             0.068192  \n",
      "adults                                           0.122884  \n",
      "children                                         0.081745  \n",
      "babies                                           0.097889  \n",
      "is_repeated_guest                                0.013050  \n",
      "previous_cancellations                          -0.048384  \n",
      "previous_bookings_not_canceled                   0.037824  \n",
      "booking_changes                                  0.052833  \n",
      "agent                                            0.034162  \n",
      "company                                         -0.098558  \n",
      "days_in_waiting_list                            -0.082730  \n",
      "adr                                              0.172185  \n",
      "required_car_parking_spaces                      0.082626  \n",
      "total_of_special_requests                        0.000000  \n",
      "\n",
      "20 największych wartości bezwzględnych:\n",
      "arrival_date_week_number        arrival_date_year                 0.540561\n",
      "arrival_date_year               arrival_date_week_number          0.540561\n",
      "stays_in_weekend_nights         stays_in_week_nights              0.498969\n",
      "stays_in_week_nights            stays_in_weekend_nights           0.498969\n",
      "previous_bookings_not_canceled  is_repeated_guest                 0.418056\n",
      "is_repeated_guest               previous_bookings_not_canceled    0.418056\n",
      "company                         agent                             0.350746\n",
      "agent                           company                           0.350746\n",
      "children                        adr                               0.324854\n",
      "adr                             children                          0.324854\n",
      "lead_time                       is_canceled                       0.293123\n",
      "is_canceled                     lead_time                         0.293123\n",
      "company                         arrival_date_year                 0.259095\n",
      "arrival_date_year               company                           0.259095\n",
      "is_repeated_guest               company                           0.244586\n",
      "company                         is_repeated_guest                 0.244586\n",
      "is_canceled                     total_of_special_requests         0.234658\n",
      "total_of_special_requests       is_canceled                       0.234658\n",
      "adults                          adr                               0.230641\n",
      "adr                             adults                            0.230641\n",
      "dtype: float64\n"
     ]
    }
   ],
   "source": [
    "for i in range(len(df)):\n",
    "    df.iloc[i, i] = 0\n",
    "\n",
    "# Znalezienie 20 największych wartości bezwzględnych\n",
    "largest_abs_values = df.abs().unstack().sort_values(ascending=False).head(20)\n",
    "\n",
    "# Wyniki\n",
    "print(\"DataFrame z przekątną równą 0:\")\n",
    "print(df)\n",
    "print(\"\\n20 największych wartości bezwzględnych:\")\n",
    "print(largest_abs_values)"
   ]
  },
  {
   "cell_type": "code",
   "execution_count": 16,
   "metadata": {},
   "outputs": [
    {
     "data": {
      "text/plain": [
       "Index(['hotel', 'is_canceled', 'lead_time', 'arrival_date_month',\n",
       "       'arrival_date_day_of_month', 'stays_in_weekend_nights',\n",
       "       'stays_in_week_nights', 'adults', 'children', 'babies', 'meal',\n",
       "       'distribution_channel', 'is_repeated_guest', 'previous_cancellations',\n",
       "       'previous_bookings_not_canceled', 'assigned_room_type',\n",
       "       'booking_changes', 'deposit_type', 'days_in_waiting_list',\n",
       "       'customer_type', 'adr', 'required_car_parking_spaces',\n",
       "       'total_of_special_requests'],\n",
       "      dtype='object')"
      ]
     },
     "execution_count": 16,
     "metadata": {},
     "output_type": "execute_result"
    }
   ],
   "source": [
    "dane.drop(columns=['country', 'company', 'agent', 'reservation_status', 'reservation_status_date', 'arrival_date_year', 'arrival_date_week_number', 'reserved_room_type', 'market_segment'], inplace=True)\n",
    "dane.columns"
   ]
  },
  {
   "cell_type": "code",
   "execution_count": 17,
   "metadata": {},
   "outputs": [],
   "source": [
    "dane.dropna(subset=['children'], inplace=True)"
   ]
  },
  {
   "cell_type": "code",
   "execution_count": 18,
   "metadata": {},
   "outputs": [
    {
     "ename": "ValueError",
     "evalue": "invalid literal for int() with base 10: 'July'",
     "output_type": "error",
     "traceback": [
      "\u001b[1;31m---------------------------------------------------------------------------\u001b[0m",
      "\u001b[1;31mValueError\u001b[0m                                Traceback (most recent call last)",
      "Cell \u001b[1;32mIn[18], line 17\u001b[0m\n\u001b[0;32m      7\u001b[0m columns_to_int \u001b[38;5;241m=\u001b[39m [\n\u001b[0;32m      8\u001b[0m     \u001b[38;5;124m'\u001b[39m\u001b[38;5;124mlead_time\u001b[39m\u001b[38;5;124m'\u001b[39m, \u001b[38;5;124m'\u001b[39m\u001b[38;5;124marrival_date_month\u001b[39m\u001b[38;5;124m'\u001b[39m, \u001b[38;5;124m'\u001b[39m\u001b[38;5;124marrival_date_day_of_month\u001b[39m\u001b[38;5;124m'\u001b[39m,\n\u001b[0;32m      9\u001b[0m     \u001b[38;5;124m'\u001b[39m\u001b[38;5;124mstays_in_weekend_nights\u001b[39m\u001b[38;5;124m'\u001b[39m, \u001b[38;5;124m'\u001b[39m\u001b[38;5;124mstays_in_week_nights\u001b[39m\u001b[38;5;124m'\u001b[39m, \u001b[38;5;124m'\u001b[39m\u001b[38;5;124mchildren\u001b[39m\u001b[38;5;124m'\u001b[39m,\n\u001b[1;32m   (...)\u001b[0m\n\u001b[0;32m     12\u001b[0m     \u001b[38;5;124m'\u001b[39m\u001b[38;5;124madr\u001b[39m\u001b[38;5;124m'\u001b[39m, \u001b[38;5;124m'\u001b[39m\u001b[38;5;124mrequired_car_parking_spaces\u001b[39m\u001b[38;5;124m'\u001b[39m, \u001b[38;5;124m'\u001b[39m\u001b[38;5;124mtotal_of_special_requests\u001b[39m\u001b[38;5;124m'\u001b[39m\n\u001b[0;32m     13\u001b[0m ]\n\u001b[0;32m     15\u001b[0m \u001b[38;5;28;01mfor\u001b[39;00m col \u001b[38;5;129;01min\u001b[39;00m columns_to_int:\n\u001b[1;32m---> 17\u001b[0m     dane[col] \u001b[38;5;241m=\u001b[39m dane[col]\u001b[38;5;241m.\u001b[39mastype(\u001b[38;5;124m'\u001b[39m\u001b[38;5;124mint64\u001b[39m\u001b[38;5;124m'\u001b[39m)\n\u001b[0;32m     19\u001b[0m \u001b[38;5;28;01mfor\u001b[39;00m col \u001b[38;5;129;01min\u001b[39;00m columns_to_category:\n\u001b[0;32m     21\u001b[0m     dane[col] \u001b[38;5;241m=\u001b[39m dane[col]\u001b[38;5;241m.\u001b[39mastype(\u001b[38;5;124m'\u001b[39m\u001b[38;5;124mcategory\u001b[39m\u001b[38;5;124m'\u001b[39m)\n",
      "File \u001b[1;32mc:\\Users\\Jan-M\\anaconda3\\envs\\projekt_z_analizy_danych\\Lib\\site-packages\\pandas\\core\\generic.py:6534\u001b[0m, in \u001b[0;36mNDFrame.astype\u001b[1;34m(self, dtype, copy, errors)\u001b[0m\n\u001b[0;32m   6530\u001b[0m     results \u001b[38;5;241m=\u001b[39m [ser\u001b[38;5;241m.\u001b[39mastype(dtype, copy\u001b[38;5;241m=\u001b[39mcopy) \u001b[38;5;28;01mfor\u001b[39;00m _, ser \u001b[38;5;129;01min\u001b[39;00m \u001b[38;5;28mself\u001b[39m\u001b[38;5;241m.\u001b[39mitems()]\n\u001b[0;32m   6532\u001b[0m \u001b[38;5;28;01melse\u001b[39;00m:\n\u001b[0;32m   6533\u001b[0m     \u001b[38;5;66;03m# else, only a single dtype is given\u001b[39;00m\n\u001b[1;32m-> 6534\u001b[0m     new_data \u001b[38;5;241m=\u001b[39m \u001b[38;5;28mself\u001b[39m\u001b[38;5;241m.\u001b[39m_mgr\u001b[38;5;241m.\u001b[39mastype(dtype\u001b[38;5;241m=\u001b[39mdtype, copy\u001b[38;5;241m=\u001b[39mcopy, errors\u001b[38;5;241m=\u001b[39merrors)\n\u001b[0;32m   6535\u001b[0m     res \u001b[38;5;241m=\u001b[39m \u001b[38;5;28mself\u001b[39m\u001b[38;5;241m.\u001b[39m_constructor_from_mgr(new_data, axes\u001b[38;5;241m=\u001b[39mnew_data\u001b[38;5;241m.\u001b[39maxes)\n\u001b[0;32m   6536\u001b[0m     \u001b[38;5;28;01mreturn\u001b[39;00m res\u001b[38;5;241m.\u001b[39m__finalize__(\u001b[38;5;28mself\u001b[39m, method\u001b[38;5;241m=\u001b[39m\u001b[38;5;124m\"\u001b[39m\u001b[38;5;124mastype\u001b[39m\u001b[38;5;124m\"\u001b[39m)\n",
      "File \u001b[1;32mc:\\Users\\Jan-M\\anaconda3\\envs\\projekt_z_analizy_danych\\Lib\\site-packages\\pandas\\core\\internals\\managers.py:414\u001b[0m, in \u001b[0;36mBaseBlockManager.astype\u001b[1;34m(self, dtype, copy, errors)\u001b[0m\n\u001b[0;32m    411\u001b[0m \u001b[38;5;28;01melif\u001b[39;00m using_copy_on_write():\n\u001b[0;32m    412\u001b[0m     copy \u001b[38;5;241m=\u001b[39m \u001b[38;5;28;01mFalse\u001b[39;00m\n\u001b[1;32m--> 414\u001b[0m \u001b[38;5;28;01mreturn\u001b[39;00m \u001b[38;5;28mself\u001b[39m\u001b[38;5;241m.\u001b[39mapply(\n\u001b[0;32m    415\u001b[0m     \u001b[38;5;124m\"\u001b[39m\u001b[38;5;124mastype\u001b[39m\u001b[38;5;124m\"\u001b[39m,\n\u001b[0;32m    416\u001b[0m     dtype\u001b[38;5;241m=\u001b[39mdtype,\n\u001b[0;32m    417\u001b[0m     copy\u001b[38;5;241m=\u001b[39mcopy,\n\u001b[0;32m    418\u001b[0m     errors\u001b[38;5;241m=\u001b[39merrors,\n\u001b[0;32m    419\u001b[0m     using_cow\u001b[38;5;241m=\u001b[39musing_copy_on_write(),\n\u001b[0;32m    420\u001b[0m )\n",
      "File \u001b[1;32mc:\\Users\\Jan-M\\anaconda3\\envs\\projekt_z_analizy_danych\\Lib\\site-packages\\pandas\\core\\internals\\managers.py:354\u001b[0m, in \u001b[0;36mBaseBlockManager.apply\u001b[1;34m(self, f, align_keys, **kwargs)\u001b[0m\n\u001b[0;32m    352\u001b[0m         applied \u001b[38;5;241m=\u001b[39m b\u001b[38;5;241m.\u001b[39mapply(f, \u001b[38;5;241m*\u001b[39m\u001b[38;5;241m*\u001b[39mkwargs)\n\u001b[0;32m    353\u001b[0m     \u001b[38;5;28;01melse\u001b[39;00m:\n\u001b[1;32m--> 354\u001b[0m         applied \u001b[38;5;241m=\u001b[39m \u001b[38;5;28mgetattr\u001b[39m(b, f)(\u001b[38;5;241m*\u001b[39m\u001b[38;5;241m*\u001b[39mkwargs)\n\u001b[0;32m    355\u001b[0m     result_blocks \u001b[38;5;241m=\u001b[39m extend_blocks(applied, result_blocks)\n\u001b[0;32m    357\u001b[0m out \u001b[38;5;241m=\u001b[39m \u001b[38;5;28mtype\u001b[39m(\u001b[38;5;28mself\u001b[39m)\u001b[38;5;241m.\u001b[39mfrom_blocks(result_blocks, \u001b[38;5;28mself\u001b[39m\u001b[38;5;241m.\u001b[39maxes)\n",
      "File \u001b[1;32mc:\\Users\\Jan-M\\anaconda3\\envs\\projekt_z_analizy_danych\\Lib\\site-packages\\pandas\\core\\internals\\blocks.py:616\u001b[0m, in \u001b[0;36mBlock.astype\u001b[1;34m(self, dtype, copy, errors, using_cow)\u001b[0m\n\u001b[0;32m    596\u001b[0m \u001b[38;5;250m\u001b[39m\u001b[38;5;124;03m\"\"\"\u001b[39;00m\n\u001b[0;32m    597\u001b[0m \u001b[38;5;124;03mCoerce to the new dtype.\u001b[39;00m\n\u001b[0;32m    598\u001b[0m \n\u001b[1;32m   (...)\u001b[0m\n\u001b[0;32m    612\u001b[0m \u001b[38;5;124;03mBlock\u001b[39;00m\n\u001b[0;32m    613\u001b[0m \u001b[38;5;124;03m\"\"\"\u001b[39;00m\n\u001b[0;32m    614\u001b[0m values \u001b[38;5;241m=\u001b[39m \u001b[38;5;28mself\u001b[39m\u001b[38;5;241m.\u001b[39mvalues\n\u001b[1;32m--> 616\u001b[0m new_values \u001b[38;5;241m=\u001b[39m astype_array_safe(values, dtype, copy\u001b[38;5;241m=\u001b[39mcopy, errors\u001b[38;5;241m=\u001b[39merrors)\n\u001b[0;32m    618\u001b[0m new_values \u001b[38;5;241m=\u001b[39m maybe_coerce_values(new_values)\n\u001b[0;32m    620\u001b[0m refs \u001b[38;5;241m=\u001b[39m \u001b[38;5;28;01mNone\u001b[39;00m\n",
      "File \u001b[1;32mc:\\Users\\Jan-M\\anaconda3\\envs\\projekt_z_analizy_danych\\Lib\\site-packages\\pandas\\core\\dtypes\\astype.py:238\u001b[0m, in \u001b[0;36mastype_array_safe\u001b[1;34m(values, dtype, copy, errors)\u001b[0m\n\u001b[0;32m    235\u001b[0m     dtype \u001b[38;5;241m=\u001b[39m dtype\u001b[38;5;241m.\u001b[39mnumpy_dtype\n\u001b[0;32m    237\u001b[0m \u001b[38;5;28;01mtry\u001b[39;00m:\n\u001b[1;32m--> 238\u001b[0m     new_values \u001b[38;5;241m=\u001b[39m astype_array(values, dtype, copy\u001b[38;5;241m=\u001b[39mcopy)\n\u001b[0;32m    239\u001b[0m \u001b[38;5;28;01mexcept\u001b[39;00m (\u001b[38;5;167;01mValueError\u001b[39;00m, \u001b[38;5;167;01mTypeError\u001b[39;00m):\n\u001b[0;32m    240\u001b[0m     \u001b[38;5;66;03m# e.g. _astype_nansafe can fail on object-dtype of strings\u001b[39;00m\n\u001b[0;32m    241\u001b[0m     \u001b[38;5;66;03m#  trying to convert to float\u001b[39;00m\n\u001b[0;32m    242\u001b[0m     \u001b[38;5;28;01mif\u001b[39;00m errors \u001b[38;5;241m==\u001b[39m \u001b[38;5;124m\"\u001b[39m\u001b[38;5;124mignore\u001b[39m\u001b[38;5;124m\"\u001b[39m:\n",
      "File \u001b[1;32mc:\\Users\\Jan-M\\anaconda3\\envs\\projekt_z_analizy_danych\\Lib\\site-packages\\pandas\\core\\dtypes\\astype.py:183\u001b[0m, in \u001b[0;36mastype_array\u001b[1;34m(values, dtype, copy)\u001b[0m\n\u001b[0;32m    180\u001b[0m     values \u001b[38;5;241m=\u001b[39m values\u001b[38;5;241m.\u001b[39mastype(dtype, copy\u001b[38;5;241m=\u001b[39mcopy)\n\u001b[0;32m    182\u001b[0m \u001b[38;5;28;01melse\u001b[39;00m:\n\u001b[1;32m--> 183\u001b[0m     values \u001b[38;5;241m=\u001b[39m _astype_nansafe(values, dtype, copy\u001b[38;5;241m=\u001b[39mcopy)\n\u001b[0;32m    185\u001b[0m \u001b[38;5;66;03m# in pandas we don't store numpy str dtypes, so convert to object\u001b[39;00m\n\u001b[0;32m    186\u001b[0m \u001b[38;5;28;01mif\u001b[39;00m \u001b[38;5;28misinstance\u001b[39m(dtype, np\u001b[38;5;241m.\u001b[39mdtype) \u001b[38;5;129;01mand\u001b[39;00m \u001b[38;5;28missubclass\u001b[39m(values\u001b[38;5;241m.\u001b[39mdtype\u001b[38;5;241m.\u001b[39mtype, \u001b[38;5;28mstr\u001b[39m):\n",
      "File \u001b[1;32mc:\\Users\\Jan-M\\anaconda3\\envs\\projekt_z_analizy_danych\\Lib\\site-packages\\pandas\\core\\dtypes\\astype.py:134\u001b[0m, in \u001b[0;36m_astype_nansafe\u001b[1;34m(arr, dtype, copy, skipna)\u001b[0m\n\u001b[0;32m    130\u001b[0m     \u001b[38;5;28;01mraise\u001b[39;00m \u001b[38;5;167;01mValueError\u001b[39;00m(msg)\n\u001b[0;32m    132\u001b[0m \u001b[38;5;28;01mif\u001b[39;00m copy \u001b[38;5;129;01mor\u001b[39;00m arr\u001b[38;5;241m.\u001b[39mdtype \u001b[38;5;241m==\u001b[39m \u001b[38;5;28mobject\u001b[39m \u001b[38;5;129;01mor\u001b[39;00m dtype \u001b[38;5;241m==\u001b[39m \u001b[38;5;28mobject\u001b[39m:\n\u001b[0;32m    133\u001b[0m     \u001b[38;5;66;03m# Explicit copy, or required since NumPy can't view from / to object.\u001b[39;00m\n\u001b[1;32m--> 134\u001b[0m     \u001b[38;5;28;01mreturn\u001b[39;00m arr\u001b[38;5;241m.\u001b[39mastype(dtype, copy\u001b[38;5;241m=\u001b[39m\u001b[38;5;28;01mTrue\u001b[39;00m)\n\u001b[0;32m    136\u001b[0m \u001b[38;5;28;01mreturn\u001b[39;00m arr\u001b[38;5;241m.\u001b[39mastype(dtype, copy\u001b[38;5;241m=\u001b[39mcopy)\n",
      "\u001b[1;31mValueError\u001b[0m: invalid literal for int() with base 10: 'July'"
     ]
    }
   ],
   "source": [
    "# columns_to_category = [\n",
    "#     \"hotel\", \"arrival_date_month\", \"arrival_date_day_of_month\",    \"children\", \"adults\", \"babies\", \"meal\",    \n",
    "#     \"distribution_channel\", \"reserved_room_type\", \"assigned_room_type\", \"deposit_type\", \"customer_type\", \n",
    "#     \"required_car_parking_spaces\",    \"total_of_special_requests\", \"reservation_status\"\n",
    "# ]\n",
    "\n",
    "# columns_to_int = [\n",
    "#     'lead_time', 'arrival_date_month', 'arrival_date_day_of_month',\n",
    "#     'stays_in_weekend_nights', 'stays_in_week_nights', 'children',\n",
    "#     'adults', 'babies', 'previous_cancellations',\n",
    "#     'previous_bookings_not_canceled', 'booking_changes', 'days_in_waiting_list',\n",
    "#     'adr', 'required_car_parking_spaces', 'total_of_special_requests'\n",
    "# ]\n",
    "\n",
    "# for col in columns_to_int:\n",
    "\n",
    "#     dane[col] = dane[col].astype('int64')\n",
    "\n",
    "# for col in columns_to_category:\n",
    "\n",
    "#     dane[col] = dane[col].astype('category')\n"
   ]
  },
  {
   "cell_type": "code",
   "execution_count": 19,
   "metadata": {},
   "outputs": [],
   "source": [
    "dane['is_repeated_guest'] = dane['is_repeated_guest'].astype('bool')\n",
    "dane['is_canceled'] = dane['is_canceled'].astype('bool')"
   ]
  },
  {
   "cell_type": "code",
   "execution_count": 20,
   "metadata": {},
   "outputs": [],
   "source": [
    "df = pd.get_dummies(dane, drop_first=True)"
   ]
  },
  {
   "cell_type": "code",
   "execution_count": 22,
   "metadata": {},
   "outputs": [
    {
     "data": {
      "text/html": [
       "<div>\n",
       "<style scoped>\n",
       "    .dataframe tbody tr th:only-of-type {\n",
       "        vertical-align: middle;\n",
       "    }\n",
       "\n",
       "    .dataframe tbody tr th {\n",
       "        vertical-align: top;\n",
       "    }\n",
       "\n",
       "    .dataframe thead th {\n",
       "        text-align: right;\n",
       "    }\n",
       "</style>\n",
       "<table border=\"1\" class=\"dataframe\">\n",
       "  <thead>\n",
       "    <tr style=\"text-align: right;\">\n",
       "      <th></th>\n",
       "      <th>is_canceled</th>\n",
       "      <th>lead_time</th>\n",
       "      <th>arrival_date_day_of_month</th>\n",
       "      <th>stays_in_weekend_nights</th>\n",
       "      <th>stays_in_week_nights</th>\n",
       "      <th>adults</th>\n",
       "      <th>children</th>\n",
       "      <th>babies</th>\n",
       "      <th>is_repeated_guest</th>\n",
       "      <th>previous_cancellations</th>\n",
       "      <th>...</th>\n",
       "      <th>assigned_room_type_H</th>\n",
       "      <th>assigned_room_type_I</th>\n",
       "      <th>assigned_room_type_K</th>\n",
       "      <th>assigned_room_type_L</th>\n",
       "      <th>assigned_room_type_P</th>\n",
       "      <th>deposit_type_Non Refund</th>\n",
       "      <th>deposit_type_Refundable</th>\n",
       "      <th>customer_type_Group</th>\n",
       "      <th>customer_type_Transient</th>\n",
       "      <th>customer_type_Transient-Party</th>\n",
       "    </tr>\n",
       "  </thead>\n",
       "  <tbody>\n",
       "    <tr>\n",
       "      <th>0</th>\n",
       "      <td>False</td>\n",
       "      <td>342</td>\n",
       "      <td>1</td>\n",
       "      <td>0</td>\n",
       "      <td>0</td>\n",
       "      <td>2</td>\n",
       "      <td>0.0</td>\n",
       "      <td>0</td>\n",
       "      <td>False</td>\n",
       "      <td>0</td>\n",
       "      <td>...</td>\n",
       "      <td>False</td>\n",
       "      <td>False</td>\n",
       "      <td>False</td>\n",
       "      <td>False</td>\n",
       "      <td>False</td>\n",
       "      <td>False</td>\n",
       "      <td>False</td>\n",
       "      <td>False</td>\n",
       "      <td>True</td>\n",
       "      <td>False</td>\n",
       "    </tr>\n",
       "    <tr>\n",
       "      <th>1</th>\n",
       "      <td>False</td>\n",
       "      <td>737</td>\n",
       "      <td>1</td>\n",
       "      <td>0</td>\n",
       "      <td>0</td>\n",
       "      <td>2</td>\n",
       "      <td>0.0</td>\n",
       "      <td>0</td>\n",
       "      <td>False</td>\n",
       "      <td>0</td>\n",
       "      <td>...</td>\n",
       "      <td>False</td>\n",
       "      <td>False</td>\n",
       "      <td>False</td>\n",
       "      <td>False</td>\n",
       "      <td>False</td>\n",
       "      <td>False</td>\n",
       "      <td>False</td>\n",
       "      <td>False</td>\n",
       "      <td>True</td>\n",
       "      <td>False</td>\n",
       "    </tr>\n",
       "    <tr>\n",
       "      <th>2</th>\n",
       "      <td>False</td>\n",
       "      <td>7</td>\n",
       "      <td>1</td>\n",
       "      <td>0</td>\n",
       "      <td>1</td>\n",
       "      <td>1</td>\n",
       "      <td>0.0</td>\n",
       "      <td>0</td>\n",
       "      <td>False</td>\n",
       "      <td>0</td>\n",
       "      <td>...</td>\n",
       "      <td>False</td>\n",
       "      <td>False</td>\n",
       "      <td>False</td>\n",
       "      <td>False</td>\n",
       "      <td>False</td>\n",
       "      <td>False</td>\n",
       "      <td>False</td>\n",
       "      <td>False</td>\n",
       "      <td>True</td>\n",
       "      <td>False</td>\n",
       "    </tr>\n",
       "    <tr>\n",
       "      <th>3</th>\n",
       "      <td>False</td>\n",
       "      <td>13</td>\n",
       "      <td>1</td>\n",
       "      <td>0</td>\n",
       "      <td>1</td>\n",
       "      <td>1</td>\n",
       "      <td>0.0</td>\n",
       "      <td>0</td>\n",
       "      <td>False</td>\n",
       "      <td>0</td>\n",
       "      <td>...</td>\n",
       "      <td>False</td>\n",
       "      <td>False</td>\n",
       "      <td>False</td>\n",
       "      <td>False</td>\n",
       "      <td>False</td>\n",
       "      <td>False</td>\n",
       "      <td>False</td>\n",
       "      <td>False</td>\n",
       "      <td>True</td>\n",
       "      <td>False</td>\n",
       "    </tr>\n",
       "    <tr>\n",
       "      <th>4</th>\n",
       "      <td>False</td>\n",
       "      <td>14</td>\n",
       "      <td>1</td>\n",
       "      <td>0</td>\n",
       "      <td>2</td>\n",
       "      <td>2</td>\n",
       "      <td>0.0</td>\n",
       "      <td>0</td>\n",
       "      <td>False</td>\n",
       "      <td>0</td>\n",
       "      <td>...</td>\n",
       "      <td>False</td>\n",
       "      <td>False</td>\n",
       "      <td>False</td>\n",
       "      <td>False</td>\n",
       "      <td>False</td>\n",
       "      <td>False</td>\n",
       "      <td>False</td>\n",
       "      <td>False</td>\n",
       "      <td>True</td>\n",
       "      <td>False</td>\n",
       "    </tr>\n",
       "  </tbody>\n",
       "</table>\n",
       "<p>5 rows × 52 columns</p>\n",
       "</div>"
      ],
      "text/plain": [
       "   is_canceled  lead_time  arrival_date_day_of_month  stays_in_weekend_nights  \\\n",
       "0        False        342                          1                        0   \n",
       "1        False        737                          1                        0   \n",
       "2        False          7                          1                        0   \n",
       "3        False         13                          1                        0   \n",
       "4        False         14                          1                        0   \n",
       "\n",
       "   stays_in_week_nights  adults  children  babies  is_repeated_guest  \\\n",
       "0                     0       2       0.0       0              False   \n",
       "1                     0       2       0.0       0              False   \n",
       "2                     1       1       0.0       0              False   \n",
       "3                     1       1       0.0       0              False   \n",
       "4                     2       2       0.0       0              False   \n",
       "\n",
       "   previous_cancellations  ...  assigned_room_type_H  assigned_room_type_I  \\\n",
       "0                       0  ...                 False                 False   \n",
       "1                       0  ...                 False                 False   \n",
       "2                       0  ...                 False                 False   \n",
       "3                       0  ...                 False                 False   \n",
       "4                       0  ...                 False                 False   \n",
       "\n",
       "   assigned_room_type_K  assigned_room_type_L  assigned_room_type_P  \\\n",
       "0                 False                 False                 False   \n",
       "1                 False                 False                 False   \n",
       "2                 False                 False                 False   \n",
       "3                 False                 False                 False   \n",
       "4                 False                 False                 False   \n",
       "\n",
       "   deposit_type_Non Refund  deposit_type_Refundable  customer_type_Group  \\\n",
       "0                    False                    False                False   \n",
       "1                    False                    False                False   \n",
       "2                    False                    False                False   \n",
       "3                    False                    False                False   \n",
       "4                    False                    False                False   \n",
       "\n",
       "   customer_type_Transient  customer_type_Transient-Party  \n",
       "0                     True                          False  \n",
       "1                     True                          False  \n",
       "2                     True                          False  \n",
       "3                     True                          False  \n",
       "4                     True                          False  \n",
       "\n",
       "[5 rows x 52 columns]"
      ]
     },
     "execution_count": 22,
     "metadata": {},
     "output_type": "execute_result"
    }
   ],
   "source": [
    "df.shape\n",
    "df.head()"
   ]
  },
  {
   "cell_type": "markdown",
   "metadata": {},
   "source": [
    "### Analiza korelacji"
   ]
  },
  {
   "cell_type": "code",
   "execution_count": 23,
   "metadata": {},
   "outputs": [
    {
     "data": {
      "image/png": "[encoded data removed]",
      "text/plain": [
       "<Figure size 800x550 with 2 Axes>"
      ]
     },
     "metadata": {},
     "output_type": "display_data"
    }
   ],
   "source": [
    "df_corr = df.corr()\n",
    "\n",
    "w1 = sns.heatmap(df_corr, cmap='coolwarm')\n",
    "w1.set_title('Korelacja zmiennych')\n",
    "plt.show()"
   ]
  },
  {
   "cell_type": "code",
   "execution_count": 24,
   "metadata": {},
   "outputs": [
    {
     "data": {
      "text/plain": [
       "deposit_type_Non Refund           0.481488\n",
       "lead_time                         0.293177\n",
       "total_of_special_requests         0.234706\n",
       "required_car_parking_spaces       0.195492\n",
       "distribution_channel_TA/TO        0.176056\n",
       "distribution_channel_Direct       0.151609\n",
       "booking_changes                   0.144371\n",
       "hotel_Resort Hotel                0.136505\n",
       "customer_type_Transient           0.133170\n",
       "assigned_room_type_D              0.128017\n",
       "customer_type_Transient-Party     0.124231\n",
       "previous_cancellations            0.110140\n",
       "is_repeated_guest                 0.084788\n",
       "assigned_room_type_E              0.064784\n",
       "adults                            0.059990\n",
       "previous_bookings_not_canceled    0.057355\n",
       "days_in_waiting_list              0.054193\n",
       "assigned_room_type_C              0.053872\n",
       "adr                               0.047622\n",
       "assigned_room_type_F              0.045971\n",
       "assigned_room_type_I              0.040783\n",
       "meal_FB                           0.038832\n",
       "customer_type_Group               0.038696\n",
       "assigned_room_type_B              0.037967\n",
       "assigned_room_type_K              0.032811\n",
       "babies                            0.032488\n",
       "arrival_date_month_January        0.031064\n",
       "arrival_date_month_March          0.030254\n",
       "arrival_date_month_November       0.029534\n",
       "arrival_date_month_June           0.029054\n",
       "meal_Undefined                    0.025893\n",
       "stays_in_week_nights              0.024771\n",
       "arrival_date_month_February       0.020201\n",
       "assigned_room_type_G              0.019858\n",
       "meal_HB                           0.019829\n",
       "arrival_date_month_May            0.018004\n",
       "distribution_channel_GDS          0.014889\n",
       "arrival_date_month_September      0.013707\n",
       "assigned_room_type_P              0.013072\n",
       "deposit_type_Refundable           0.011310\n",
       "arrival_date_month_December       0.010513\n",
       "arrival_date_month_October        0.006697\n",
       "arrival_date_day_of_month         0.006084\n",
       "arrival_date_month_August         0.005223\n",
       "children                          0.005048\n",
       "assigned_room_type_L              0.003773\n",
       "arrival_date_month_July           0.002953\n",
       "assigned_room_type_H              0.002866\n",
       "distribution_channel_Undefined    0.002220\n",
       "stays_in_weekend_nights           0.001783\n",
       "meal_SC                           0.001296\n",
       "Name: is_canceled, dtype: float64"
      ]
     },
     "execution_count": 24,
     "metadata": {},
     "output_type": "execute_result"
    }
   ],
   "source": [
    "pd.set_option('display.max_rows', None)\n",
    "cancel_corr = df.corr()[\"is_canceled\"]\n",
    "cancel_corr.abs().sort_values(ascending=False)[1:]"
   ]
  },
  {
   "cell_type": "code",
   "execution_count": 37,
   "metadata": {},
   "outputs": [
    {
     "name": "stdout",
     "output_type": "stream",
     "text": [
      "\n",
      "20 największych wartości bezwzględnych:\n",
      "customer_type_Transient      customer_type_Transient-Party     0.895584\n",
      "distribution_channel_TA/TO   distribution_channel_Direct       0.797499\n",
      "stays_in_weekend_nights      stays_in_week_nights              0.498967\n",
      "deposit_type_Non Refund      is_canceled                       0.481488\n",
      "is_repeated_guest            previous_bookings_not_canceled    0.418056\n",
      "lead_time                    deposit_type_Non Refund           0.380174\n",
      "children                     assigned_room_type_G              0.372458\n",
      "                             adr                               0.324854\n",
      "                             assigned_room_type_F              0.305917\n",
      "lead_time                    is_canceled                       0.293177\n",
      "arrival_date_month_August    adr                               0.274887\n",
      "total_of_special_requests    deposit_type_Non Refund           0.268029\n",
      "                             is_canceled                       0.234706\n",
      "hotel_Resort Hotel           stays_in_week_nights              0.234022\n",
      "adults                       adr                               0.230690\n",
      "distribution_channel_TA/TO   is_repeated_guest                 0.226307\n",
      "lead_time                    distribution_channel_TA/TO        0.221686\n",
      "required_car_parking_spaces  hotel_Resort Hotel                0.218869\n",
      "hotel_Resort Hotel           meal_SC                           0.217048\n",
      "                             assigned_room_type_E              0.216622\n",
      "required_car_parking_spaces  is_canceled                       0.195492\n",
      "assigned_room_type_G         adr                               0.189251\n",
      "stays_in_weekend_nights      hotel_Resort Hotel                0.186595\n",
      "hotel_Resort Hotel           distribution_channel_TA/TO        0.180697\n",
      "                             assigned_room_type_C              0.180026\n",
      "dtype: float64\n"
     ]
    }
   ],
   "source": [
    "for i in range(len(df_corr)):\n",
    "    df_corr.iloc[i, i] = 0\n",
    "\n",
    "largest_abs_values = df_corr.abs().unstack().sort_values(ascending=False).head(50)\n",
    "\n",
    "print(\"\\n20 największych wartości bezwzględnych:\")\n",
    "print(largest_abs_values.iloc[::2,])"
   ]
  },
  {
   "cell_type": "markdown",
   "metadata": {},
   "source": [
    "### Detekcja anomalii"
   ]
  },
  {
   "cell_type": "code",
   "execution_count": 25,
   "metadata": {},
   "outputs": [
    {
     "data": {
      "text/html": [
       "<style type=\"text/css\">\n",
       "#T_1db0a_row4_col1, #T_1db0a_row9_col1 {\n",
       "  background-color: lightgreen;\n",
       "}\n",
       "</style>\n",
       "<table id=\"T_1db0a\">\n",
       "  <thead>\n",
       "    <tr>\n",
       "      <th class=\"blank level0\" >&nbsp;</th>\n",
       "      <th id=\"T_1db0a_level0_col0\" class=\"col_heading level0 col0\" >Description</th>\n",
       "      <th id=\"T_1db0a_level0_col1\" class=\"col_heading level0 col1\" >Value</th>\n",
       "    </tr>\n",
       "  </thead>\n",
       "  <tbody>\n",
       "    <tr>\n",
       "      <th id=\"T_1db0a_level0_row0\" class=\"row_heading level0 row0\" >0</th>\n",
       "      <td id=\"T_1db0a_row0_col0\" class=\"data row0 col0\" >Session id</td>\n",
       "      <td id=\"T_1db0a_row0_col1\" class=\"data row0 col1\" >123</td>\n",
       "    </tr>\n",
       "    <tr>\n",
       "      <th id=\"T_1db0a_level0_row1\" class=\"row_heading level0 row1\" >1</th>\n",
       "      <td id=\"T_1db0a_row1_col0\" class=\"data row1 col0\" >Original data shape</td>\n",
       "      <td id=\"T_1db0a_row1_col1\" class=\"data row1 col1\" >(119386, 52)</td>\n",
       "    </tr>\n",
       "    <tr>\n",
       "      <th id=\"T_1db0a_level0_row2\" class=\"row_heading level0 row2\" >2</th>\n",
       "      <td id=\"T_1db0a_row2_col0\" class=\"data row2 col0\" >Transformed data shape</td>\n",
       "      <td id=\"T_1db0a_row2_col1\" class=\"data row2 col1\" >(119386, 52)</td>\n",
       "    </tr>\n",
       "    <tr>\n",
       "      <th id=\"T_1db0a_level0_row3\" class=\"row_heading level0 row3\" >3</th>\n",
       "      <td id=\"T_1db0a_row3_col0\" class=\"data row3 col0\" >Numeric features</td>\n",
       "      <td id=\"T_1db0a_row3_col1\" class=\"data row3 col1\" >14</td>\n",
       "    </tr>\n",
       "    <tr>\n",
       "      <th id=\"T_1db0a_level0_row4\" class=\"row_heading level0 row4\" >4</th>\n",
       "      <td id=\"T_1db0a_row4_col0\" class=\"data row4 col0\" >Preprocess</td>\n",
       "      <td id=\"T_1db0a_row4_col1\" class=\"data row4 col1\" >True</td>\n",
       "    </tr>\n",
       "    <tr>\n",
       "      <th id=\"T_1db0a_level0_row5\" class=\"row_heading level0 row5\" >5</th>\n",
       "      <td id=\"T_1db0a_row5_col0\" class=\"data row5 col0\" >Imputation type</td>\n",
       "      <td id=\"T_1db0a_row5_col1\" class=\"data row5 col1\" >simple</td>\n",
       "    </tr>\n",
       "    <tr>\n",
       "      <th id=\"T_1db0a_level0_row6\" class=\"row_heading level0 row6\" >6</th>\n",
       "      <td id=\"T_1db0a_row6_col0\" class=\"data row6 col0\" >Numeric imputation</td>\n",
       "      <td id=\"T_1db0a_row6_col1\" class=\"data row6 col1\" >mean</td>\n",
       "    </tr>\n",
       "    <tr>\n",
       "      <th id=\"T_1db0a_level0_row7\" class=\"row_heading level0 row7\" >7</th>\n",
       "      <td id=\"T_1db0a_row7_col0\" class=\"data row7 col0\" >Categorical imputation</td>\n",
       "      <td id=\"T_1db0a_row7_col1\" class=\"data row7 col1\" >mode</td>\n",
       "    </tr>\n",
       "    <tr>\n",
       "      <th id=\"T_1db0a_level0_row8\" class=\"row_heading level0 row8\" >8</th>\n",
       "      <td id=\"T_1db0a_row8_col0\" class=\"data row8 col0\" >CPU Jobs</td>\n",
       "      <td id=\"T_1db0a_row8_col1\" class=\"data row8 col1\" >-1</td>\n",
       "    </tr>\n",
       "    <tr>\n",
       "      <th id=\"T_1db0a_level0_row9\" class=\"row_heading level0 row9\" >9</th>\n",
       "      <td id=\"T_1db0a_row9_col0\" class=\"data row9 col0\" >Use GPU</td>\n",
       "      <td id=\"T_1db0a_row9_col1\" class=\"data row9 col1\" >True</td>\n",
       "    </tr>\n",
       "    <tr>\n",
       "      <th id=\"T_1db0a_level0_row10\" class=\"row_heading level0 row10\" >10</th>\n",
       "      <td id=\"T_1db0a_row10_col0\" class=\"data row10 col0\" >Log Experiment</td>\n",
       "      <td id=\"T_1db0a_row10_col1\" class=\"data row10 col1\" >False</td>\n",
       "    </tr>\n",
       "    <tr>\n",
       "      <th id=\"T_1db0a_level0_row11\" class=\"row_heading level0 row11\" >11</th>\n",
       "      <td id=\"T_1db0a_row11_col0\" class=\"data row11 col0\" >Experiment Name</td>\n",
       "      <td id=\"T_1db0a_row11_col1\" class=\"data row11 col1\" >anomaly-default-name</td>\n",
       "    </tr>\n",
       "    <tr>\n",
       "      <th id=\"T_1db0a_level0_row12\" class=\"row_heading level0 row12\" >12</th>\n",
       "      <td id=\"T_1db0a_row12_col0\" class=\"data row12 col0\" >USI</td>\n",
       "      <td id=\"T_1db0a_row12_col1\" class=\"data row12 col1\" >437b</td>\n",
       "    </tr>\n",
       "  </tbody>\n",
       "</table>\n"
      ],
      "text/plain": [
       "<pandas.io.formats.style.Styler at 0x187273300d0>"
      ]
     },
     "metadata": {},
     "output_type": "display_data"
    }
   ],
   "source": [
    "from pycaret.anomaly import *\n",
    "exp_ano101 = setup(df, session_id = 123, use_gpu=True)"
   ]
  },
  {
   "cell_type": "code",
   "execution_count": 26,
   "metadata": {},
   "outputs": [
    {
     "data": {
      "text/html": [],
      "text/plain": [
       "<IPython.core.display.HTML object>"
      ]
     },
     "metadata": {},
     "output_type": "display_data"
    },
    {
     "data": {
      "text/html": [],
      "text/plain": [
       "<IPython.core.display.HTML object>"
      ]
     },
     "metadata": {},
     "output_type": "display_data"
    },
    {
     "data": {
      "text/html": [],
      "text/plain": [
       "<IPython.core.display.HTML object>"
      ]
     },
     "metadata": {},
     "output_type": "display_data"
    },
    {
     "name": "stdout",
     "output_type": "stream",
     "text": [
      "IForest(behaviour='new', bootstrap=False, contamination=0.05,\n",
      "    max_features=1.0, max_samples='auto', n_estimators=100, n_jobs=-1,\n",
      "    random_state=123, verbose=0)\n"
     ]
    }
   ],
   "source": [
    "iforest = create_model('iforest')\n",
    "print(iforest)"
   ]
  },
  {
   "cell_type": "code",
   "execution_count": null,
   "metadata": {},
   "outputs": [],
   "source": [
    "#svm = create_model('svm', fraction = 0.025)\n",
    "#print(svm)"
   ]
  },
  {
   "cell_type": "code",
   "execution_count": 27,
   "metadata": {},
   "outputs": [
    {
     "data": {
      "text/html": [
       "<div>\n",
       "<style scoped>\n",
       "    .dataframe tbody tr th:only-of-type {\n",
       "        vertical-align: middle;\n",
       "    }\n",
       "\n",
       "    .dataframe tbody tr th {\n",
       "        vertical-align: top;\n",
       "    }\n",
       "\n",
       "    .dataframe thead th {\n",
       "        text-align: right;\n",
       "    }\n",
       "</style>\n",
       "<table border=\"1\" class=\"dataframe\">\n",
       "  <thead>\n",
       "    <tr style=\"text-align: right;\">\n",
       "      <th></th>\n",
       "      <th>is_canceled</th>\n",
       "      <th>lead_time</th>\n",
       "      <th>arrival_date_day_of_month</th>\n",
       "      <th>stays_in_weekend_nights</th>\n",
       "      <th>stays_in_week_nights</th>\n",
       "      <th>adults</th>\n",
       "      <th>children</th>\n",
       "      <th>babies</th>\n",
       "      <th>is_repeated_guest</th>\n",
       "      <th>previous_cancellations</th>\n",
       "      <th>...</th>\n",
       "      <th>assigned_room_type_K</th>\n",
       "      <th>assigned_room_type_L</th>\n",
       "      <th>assigned_room_type_P</th>\n",
       "      <th>deposit_type_Non Refund</th>\n",
       "      <th>deposit_type_Refundable</th>\n",
       "      <th>customer_type_Group</th>\n",
       "      <th>customer_type_Transient</th>\n",
       "      <th>customer_type_Transient-Party</th>\n",
       "      <th>Anomaly</th>\n",
       "      <th>Anomaly_Score</th>\n",
       "    </tr>\n",
       "  </thead>\n",
       "  <tbody>\n",
       "    <tr>\n",
       "      <th>0</th>\n",
       "      <td>False</td>\n",
       "      <td>342</td>\n",
       "      <td>1</td>\n",
       "      <td>0</td>\n",
       "      <td>0</td>\n",
       "      <td>2</td>\n",
       "      <td>0.0</td>\n",
       "      <td>0</td>\n",
       "      <td>False</td>\n",
       "      <td>0</td>\n",
       "      <td>...</td>\n",
       "      <td>False</td>\n",
       "      <td>False</td>\n",
       "      <td>False</td>\n",
       "      <td>False</td>\n",
       "      <td>False</td>\n",
       "      <td>False</td>\n",
       "      <td>True</td>\n",
       "      <td>False</td>\n",
       "      <td>1</td>\n",
       "      <td>0.012845</td>\n",
       "    </tr>\n",
       "    <tr>\n",
       "      <th>1</th>\n",
       "      <td>False</td>\n",
       "      <td>737</td>\n",
       "      <td>1</td>\n",
       "      <td>0</td>\n",
       "      <td>0</td>\n",
       "      <td>2</td>\n",
       "      <td>0.0</td>\n",
       "      <td>0</td>\n",
       "      <td>False</td>\n",
       "      <td>0</td>\n",
       "      <td>...</td>\n",
       "      <td>False</td>\n",
       "      <td>False</td>\n",
       "      <td>False</td>\n",
       "      <td>False</td>\n",
       "      <td>False</td>\n",
       "      <td>False</td>\n",
       "      <td>True</td>\n",
       "      <td>False</td>\n",
       "      <td>1</td>\n",
       "      <td>0.024943</td>\n",
       "    </tr>\n",
       "    <tr>\n",
       "      <th>2</th>\n",
       "      <td>False</td>\n",
       "      <td>7</td>\n",
       "      <td>1</td>\n",
       "      <td>0</td>\n",
       "      <td>1</td>\n",
       "      <td>1</td>\n",
       "      <td>0.0</td>\n",
       "      <td>0</td>\n",
       "      <td>False</td>\n",
       "      <td>0</td>\n",
       "      <td>...</td>\n",
       "      <td>False</td>\n",
       "      <td>False</td>\n",
       "      <td>False</td>\n",
       "      <td>False</td>\n",
       "      <td>False</td>\n",
       "      <td>False</td>\n",
       "      <td>True</td>\n",
       "      <td>False</td>\n",
       "      <td>0</td>\n",
       "      <td>-0.031925</td>\n",
       "    </tr>\n",
       "    <tr>\n",
       "      <th>3</th>\n",
       "      <td>False</td>\n",
       "      <td>13</td>\n",
       "      <td>1</td>\n",
       "      <td>0</td>\n",
       "      <td>1</td>\n",
       "      <td>1</td>\n",
       "      <td>0.0</td>\n",
       "      <td>0</td>\n",
       "      <td>False</td>\n",
       "      <td>0</td>\n",
       "      <td>...</td>\n",
       "      <td>False</td>\n",
       "      <td>False</td>\n",
       "      <td>False</td>\n",
       "      <td>False</td>\n",
       "      <td>False</td>\n",
       "      <td>False</td>\n",
       "      <td>True</td>\n",
       "      <td>False</td>\n",
       "      <td>0</td>\n",
       "      <td>-0.078485</td>\n",
       "    </tr>\n",
       "    <tr>\n",
       "      <th>4</th>\n",
       "      <td>False</td>\n",
       "      <td>14</td>\n",
       "      <td>1</td>\n",
       "      <td>0</td>\n",
       "      <td>2</td>\n",
       "      <td>2</td>\n",
       "      <td>0.0</td>\n",
       "      <td>0</td>\n",
       "      <td>False</td>\n",
       "      <td>0</td>\n",
       "      <td>...</td>\n",
       "      <td>False</td>\n",
       "      <td>False</td>\n",
       "      <td>False</td>\n",
       "      <td>False</td>\n",
       "      <td>False</td>\n",
       "      <td>False</td>\n",
       "      <td>True</td>\n",
       "      <td>False</td>\n",
       "      <td>0</td>\n",
       "      <td>-0.096751</td>\n",
       "    </tr>\n",
       "  </tbody>\n",
       "</table>\n",
       "<p>5 rows × 54 columns</p>\n",
       "</div>"
      ],
      "text/plain": [
       "   is_canceled  lead_time  arrival_date_day_of_month  stays_in_weekend_nights  \\\n",
       "0        False        342                          1                        0   \n",
       "1        False        737                          1                        0   \n",
       "2        False          7                          1                        0   \n",
       "3        False         13                          1                        0   \n",
       "4        False         14                          1                        0   \n",
       "\n",
       "   stays_in_week_nights  adults  children  babies  is_repeated_guest  \\\n",
       "0                     0       2       0.0       0              False   \n",
       "1                     0       2       0.0       0              False   \n",
       "2                     1       1       0.0       0              False   \n",
       "3                     1       1       0.0       0              False   \n",
       "4                     2       2       0.0       0              False   \n",
       "\n",
       "   previous_cancellations  ...  assigned_room_type_K  assigned_room_type_L  \\\n",
       "0                       0  ...                 False                 False   \n",
       "1                       0  ...                 False                 False   \n",
       "2                       0  ...                 False                 False   \n",
       "3                       0  ...                 False                 False   \n",
       "4                       0  ...                 False                 False   \n",
       "\n",
       "   assigned_room_type_P  deposit_type_Non Refund  deposit_type_Refundable  \\\n",
       "0                 False                    False                    False   \n",
       "1                 False                    False                    False   \n",
       "2                 False                    False                    False   \n",
       "3                 False                    False                    False   \n",
       "4                 False                    False                    False   \n",
       "\n",
       "   customer_type_Group  customer_type_Transient  \\\n",
       "0                False                     True   \n",
       "1                False                     True   \n",
       "2                False                     True   \n",
       "3                False                     True   \n",
       "4                False                     True   \n",
       "\n",
       "   customer_type_Transient-Party  Anomaly  Anomaly_Score  \n",
       "0                          False        1       0.012845  \n",
       "1                          False        1       0.024943  \n",
       "2                          False        0      -0.031925  \n",
       "3                          False        0      -0.078485  \n",
       "4                          False        0      -0.096751  \n",
       "\n",
       "[5 rows x 54 columns]"
      ]
     },
     "execution_count": 27,
     "metadata": {},
     "output_type": "execute_result"
    }
   ],
   "source": [
    "iforest_results = assign_model(iforest)\n",
    "iforest_results.head()"
   ]
  },
  {
   "cell_type": "code",
   "execution_count": 28,
   "metadata": {},
   "outputs": [],
   "source": [
    "df = df[iforest_results['Anomaly'] == 0]"
   ]
  },
  {
   "cell_type": "code",
   "execution_count": 29,
   "metadata": {},
   "outputs": [],
   "source": [
    "for col in df.select_dtypes(include=[np.number]).columns:\n",
    "    Q1 = df[col].quantile(0.25)\n",
    "    Q3 = df[col].quantile(0.75)\n",
    "    IQR = Q3 - Q1\n",
    "    lower_bound = Q1 - 1.5 * IQR\n",
    "    upper_bound = Q3 + 1.5 * IQR\n",
    "    df = df[(df[col] >= lower_bound) & (df[col] <= upper_bound)]"
   ]
  },
  {
   "cell_type": "code",
   "execution_count": 30,
   "metadata": {},
   "outputs": [],
   "source": [
    "# Normalizacja kolumnowa (min-max scaling)\n",
    "dane_norm = df.select_dtypes(include=['int64', 'float64']).apply(\n",
    "    lambda col: (col - col.min()) / (col.max() - col.min())\n",
    ")\n",
    "\n",
    "# Usunięcie kolumny 'is_canceled'\n",
    "dane_norm = pd.concat([df[df.select_dtypes(include='bool').columns ], dane_norm], axis=1)\n",
    "dane_norm.drop(columns='is_canceled', inplace=True)\n",
    "\n",
    "\n"
   ]
  },
  {
   "cell_type": "code",
   "execution_count": 31,
   "metadata": {},
   "outputs": [],
   "source": [
    "df.drop( dane_norm.var().nsmallest(15).index , axis=1, inplace=True)"
   ]
  },
  {
   "cell_type": "markdown",
   "metadata": {},
   "source": [
    "### Modele"
   ]
  },
  {
   "cell_type": "code",
   "execution_count": 32,
   "metadata": {},
   "outputs": [],
   "source": [
    "from sklearn.model_selection import train_test_split\n",
    "from sklearn.metrics import accuracy_score, classification_report, confusion_matrix\n",
    "from sklearn.metrics import roc_auc_score, roc_curve\n",
    "\n",
    "from sklearn.linear_model import LogisticRegression\n",
    "from sklearn.svm import SVC\n",
    "from sklearn.naive_bayes import GaussianNB\n",
    "from sklearn.tree import DecisionTreeClassifier\n",
    "from sklearn.ensemble import RandomForestClassifier\n",
    "from sklearn.ensemble import GradientBoostingClassifier\n",
    "from sklearn.ensemble import AdaBoostClassifier\n",
    "\n",
    "from sklearn.model_selection import cross_val_score\n",
    "from sklearn.model_selection import StratifiedKFold\n",
    "from sklearn.model_selection import GridSearchCV\n",
    "from sklearn.model_selection import RandomizedSearchCV\n",
    "\n",
    "from sklearn.pipeline import make_pipeline\n"
   ]
  },
  {
   "cell_type": "markdown",
   "metadata": {},
   "source": [
    "Podział zbioru danych na treningowy i testowy"
   ]
  },
  {
   "cell_type": "code",
   "execution_count": 34,
   "metadata": {},
   "outputs": [
    {
     "name": "stdout",
     "output_type": "stream",
     "text": [
      "(53760, 36) (53760,)\n"
     ]
    }
   ],
   "source": [
    "X = df.drop(columns = 'is_canceled').values\n",
    "y = df['is_canceled'].values\n",
    "print(X.shape, y.shape)"
   ]
  },
  {
   "cell_type": "code",
   "execution_count": 37,
   "metadata": {},
   "outputs": [
    {
     "name": "stdout",
     "output_type": "stream",
     "text": [
      "(48384, 36) (5376, 36) (48384,) (5376,)\n"
     ]
    }
   ],
   "source": [
    "X_train, X_test, y_train, y_test = train_test_split(X, y, test_size = 0.1, random_state = 123, stratify = y)\n",
    "print(X_train.shape, X_test.shape, y_train.shape, y_test.shape)"
   ]
  },
  {
   "cell_type": "markdown",
   "metadata": {},
   "source": [
    "Utworzenie instancji klasyfikatorów"
   ]
  },
  {
   "cell_type": "code",
   "execution_count": null,
   "metadata": {},
   "outputs": [],
   "source": [
    "names = ['Logistic Regression', 'SVM', 'Naive Bayes', 'Decision Tree', 'Random Forest', 'Gradient Boosting', 'AdaBoost']\n",
    "classifiers = [LogisticRegression(), SVC(), GaussianNB(), DecisionTreeClassifier(), RandomForestClassifier(), GradientBoostingClassifier(), AdaBoostClassifier()]"
   ]
  },
  {
   "cell_type": "markdown",
   "metadata": {},
   "source": [
    "Walidacja krzyżowa"
   ]
  },
  {
   "cell_type": "code",
   "execution_count": 38,
   "metadata": {},
   "outputs": [],
   "source": [
    "cv = StratifiedKFold(n_splits = 5, shuffle = True, random_state = 123)"
   ]
  },
  {
   "cell_type": "markdown",
   "metadata": {},
   "source": [
    "Hiperparamrtry modeli"
   ]
  },
  {
   "cell_type": "code",
   "execution_count": null,
   "metadata": {},
   "outputs": [],
   "source": [
    "grid_params_clf = ['LogisticRegression': {'C': [0.01, 0.1, 1, 10, 100], 'penalty': ['l1', 'l2']}, 'SVM': {'kernel': ['linear', 'rbf']}, 'Naive Bayes':{}, 'DecisionTreeClassifier': {'max_depth': [13, 15], 'min_samples_split': [2, 6, 10], 'min_samples_leaf': [2, 4, 5]}, 'RandomForestClassifier': {'n_estimators': [300, 500], 'max_depth': [5, 9], 'min_samples_split': [30, 60], 'min_samples_leaf': [20, 25]}, 'GradientBoostingClassifier': {'n_estimators': [400, 500], 'learning_rate': [0.01, 0.1], 'max_depth': [13, 15], 'min_samples_split': [30, 60], 'min_samples_leaf': [20, 25]}, 'AdaBoostClassifier': {'n_estimators': [400, 500], 'learning_rate': [0.01, 0.1, 1]}]"
   ]
  },
  {
   "cell_type": "code",
   "execution_count": null,
   "metadata": {},
   "outputs": [],
   "source": [
    "best_params = []\n",
    "best_models = []\n",
    "\n",
    "for name, clf, grid_param in zip(names, classifiers, grid_params_clf):\n",
    "    grid_search = GridSearchCV(clf, grid_param, cv = cv, scoring = 'precision', n_jobs = -1)\n",
    "    grid_search.fit(X_train, y_train)\n",
    "    best_params.append(grid_search.best_params_)\n",
    "    best_models.append(grid_search.best_estimator_)\n",
    "    print(f'{name}: {grid_search.best_params_}')"
   ]
  },
  {
   "cell_type": "markdown",
   "metadata": {},
   "source": [
    "Szkolenie modeli"
   ]
  },
  {
   "cell_type": "code",
   "execution_count": null,
   "metadata": {},
   "outputs": [],
   "source": [
    "for name, clf in zip(names, classifiers):   \n",
    "    pipeline = make_pipeline(clf)\n",
    "    scores = cross_val_score(pipeline, X_train, y_train, cv = cv, scoring = 'precision')\n",
    "    print(f'{name}:')\n",
    "    print(f'Precision: {scores.mean()}')\n",
    "    print(f'Std: {scores.std()}')"
   ]
  }
 ],
 "metadata": {
  "kernelspec": {
   "display_name": "projekt_z_analizy_danych",
   "language": "python",
   "name": "python3"
  },
  "language_info": {
   "codemirror_mode": {
    "name": "ipython",
    "version": 3
   },
   "file_extension": ".py",
   "mimetype": "text/x-python",
   "name": "python",
   "nbconvert_exporter": "python",
   "pygments_lexer": "ipython3",
   "version": "3.11.11"
  }
 },
 "nbformat": 4,
 "nbformat_minor": 2
}

{
 "cells": [
  {
   "cell_type": "markdown",
   "metadata": {},
   "source": [
    "| int64 | category | bool | character | date | float64 |\n",
    "|-------|---------|------|----------|-----------|-------|\n",
    "|lead_time       |hotel        |is_canceled      |country          |arrival_date*           |       |\n",
    "|arrival_date_year       |arrival_date_year         |is_repeated_guest      |agent          |reservation_status_date           |       |\n",
    "|arrival_date_month       |arrival_date_month         |      |company          |           |       |\n",
    "|arrival_date_day_of_month       |arrival_date_day_of_month         |      |          |           |       |\n",
    "|arrival_date_week_number       |children         |      |          |           |       |\n",
    "|stays_in_weekend_nights|adults|||||\n",
    "|stays_in_week_nights|babies|||||\n",
    "|children|meal|||||\n",
    "|adults|country|||||\n",
    "|babies|market_segment|||||\n",
    "|previous_cancellations|distribution_channel|||||\n",
    "|previous_bookings_not_canceled|reserved_room_type|||||\n",
    "|booking_changes|assigned_room_type|||||\n",
    "|days_in_waiting_list|deposit_type|||||\n",
    "|adr|customer_type|||||\n",
    "|required_car_parking_spaces|required_car_parking_spaces|||||\n",
    "|total_of_special_requests|total_of_special_requests|||||\n",
    "||reservation_status|||||"
   ]
  },
  {
   "cell_type": "markdown",
   "metadata": {},
   "source": [
    "Zmienne numeryczne do analizy:\n",
    "1. lead_time\n",
    "2. arrival_date *\n",
    "3. stays_days *\n",
    "4. number_of_people *\n",
    "5. is_repeated_guest / previous_cancellations / previous_bookings_not_canceled\n",
    "6. days_in_waiting_list / total_of_special_requests\n",
    "7. company / agent\n",
    "\n",
    "Zależności numeryczne do analizy:\n",
    "1. lead_time vs. is_canceled\n",
    "2. is_canceled vs. requested_car_parking_spaces / total_of_special_requests\n",
    "3. arrival_date_year vs. arrival_date_week_number\n",
    "4. stays_in_weekend_nights vs. stays_in_week_nights\n",
    "5. is_repeated_guest vs. previous_booking_not_canceled\n",
    "6. company vs. is_repeated_guest / previous_cancellations / previous_booking_not_canceled\n",
    "7. company vs. agent"
   ]
  },
  {
   "cell_type": "markdown",
   "metadata": {
    "vscode": {
     "languageId": "plaintext"
    }
   },
   "source": [
    "Zmienne kategoryczne do analizy:\n",
    "\n",
    "Zależności kategoryczne do analizy:"
   ]
  }
 ],
 "metadata": {
  "language_info": {
   "name": "python"
  }
 },
 "nbformat": 4,
 "nbformat_minor": 2
}
